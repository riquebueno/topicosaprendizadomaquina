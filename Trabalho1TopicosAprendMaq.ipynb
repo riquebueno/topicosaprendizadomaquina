{
  "nbformat": 4,
  "nbformat_minor": 0,
  "metadata": {
    "colab": {
      "name": "Trabalho1TopicosAprendMaq.ipynb",
      "version": "0.3.2",
      "provenance": [],
      "include_colab_link": true
    },
    "kernelspec": {
      "name": "python3",
      "display_name": "Python 3"
    },
    "accelerator": "GPU"
  },
  "cells": [
    {
      "cell_type": "markdown",
      "metadata": {
        "id": "view-in-github",
        "colab_type": "text"
      },
      "source": [
        "[View in Colaboratory](https://colab.research.google.com/github/riquebueno/topicosaprendizadomaquina/blob/master/Trabalho1TopicosAprendMaq.ipynb)"
      ]
    },
    {
      "metadata": {
        "id": "2K2frxTAxCiq",
        "colab_type": "code",
        "colab": {}
      },
      "cell_type": "code",
      "source": [
        "import tensorflow as tf\n",
        "device_name = tf.test.gpu_device_name()\n",
        "if device_name != '/device:GPU:0':\n",
        "  raise SystemError('GPU device not found')\n",
        "print('Found GPU at: {}'.format(device_name))"
      ],
      "execution_count": 0,
      "outputs": []
    },
    {
      "metadata": {
        "id": "PXcxoAqMkKbA",
        "colab_type": "text"
      },
      "cell_type": "markdown",
      "source": [
        "https://towardsdatascience.com/learn-word2vec-by-implementing-it-in-tensorflow-45641adaf2ac\n",
        "\n",
        "https://medium.com/deep-math-machine-learning-ai/chapter-9-2-nlp-code-for-word2vec-neural-network-tensorflow-544db99f5334"
      ]
    },
    {
      "metadata": {
        "id": "Bec5IvJZcMJM",
        "colab_type": "text"
      },
      "cell_type": "markdown",
      "source": [
        "#Trabalho de Tópicos Avançados em Aprendizado de Máquina -Henrique Bueno Rodrigues"
      ]
    },
    {
      "metadata": {
        "id": "A1UU5TDdvW6H",
        "colab_type": "code",
        "colab": {}
      },
      "cell_type": "code",
      "source": [
        "#Instalação de bibliotecas\n",
        "!pip install -U gensim"
      ],
      "execution_count": 0,
      "outputs": []
    },
    {
      "metadata": {
        "id": "zmVcqC4adwVB",
        "colab_type": "code",
        "colab": {}
      },
      "cell_type": "code",
      "source": [
        "#Imports\n",
        "import pandas as pd\n",
        "import numpy as np\n",
        "\n",
        "# import modules & set up logging\n",
        "import gensim, logging\n",
        "logging.basicConfig(format='%(asctime)s : %(levelname)s : %(message)s', level=logging.INFO)"
      ],
      "execution_count": 0,
      "outputs": []
    },
    {
      "metadata": {
        "id": "AnARdMdXcTZ3",
        "colab_type": "code",
        "colab": {}
      },
      "cell_type": "code",
      "source": [
        "#Leitura do dataset\n",
        "#df = pd.read_csv('ted_main.csv')\n",
        "#df.ratings[0]\n",
        "df = pd.read_csv('transcripts.csv')\n",
        "#umTexto = df.transcript[0]\n",
        "textos = df['transcript']\n",
        "\n",
        "caracteresARemover = \"?<>\\{\\}\\(\\)!@#$.,;:\\\"-_—\"\n",
        "\n",
        "#Remoção de caracteres\n",
        "textosProcessados = []\n",
        "for texto in textos:\n",
        "  for i in range(0,len(caracteresARemover)):\n",
        "    texto = texto.lower().replace(caracteresARemover[i],\" \")\n",
        "  textosProcessados.append(texto)\n",
        "\n",
        "#Split dos textos e eliminação de palavras vazias\n",
        "palavrasDeTodosOsTextos = []\n",
        "for texto in textosProcessados:\n",
        "  palavrasDeUmTexto = texto.split(\" \")\n",
        "  #removendo os strings vazios\n",
        "  palavrasDeUmTexto = list(filter(None, palavrasDeUmTexto))\n",
        "  palavrasDeTodosOsTextos.append(palavrasDeUmTexto)\n",
        "\n",
        "# Count word frequencies\n",
        "from collections import defaultdict\n",
        "frequency = defaultdict(int)\n",
        "for text in palavrasDeTodosOsTextos:\n",
        "    for token in text:\n",
        "        frequency[token] += 1  \n",
        "\n",
        "# Only keep words that appear more than once\n",
        "processed_corpus = [[token for token in text if frequency[token] > 1] for text in palavrasDeTodosOsTextos]\n",
        "\n"
      ],
      "execution_count": 0,
      "outputs": []
    },
    {
      "metadata": {
        "id": "qCpckQOnkp14",
        "colab_type": "code",
        "colab": {}
      },
      "cell_type": "code",
      "source": [
        "#palavrasDeTodosOsTextos\n",
        "#frequency\n",
        "processed_corpus"
      ],
      "execution_count": 0,
      "outputs": []
    },
    {
      "metadata": {
        "id": "qOb3Km28IYvq",
        "colab_type": "code",
        "colab": {}
      },
      "cell_type": "code",
      "source": [
        "from gensim import corpora\n",
        "\n",
        "dictionary = corpora.Dictionary(processed_corpus)\n",
        "print(dictionary)\n",
        "#45427 unique tokens: [\"'30s\", '15', '16', '1930s', '19th']...) from 2467 documents"
      ],
      "execution_count": 0,
      "outputs": []
    },
    {
      "metadata": {
        "id": "FGWrGQ4-JduU",
        "colab_type": "code",
        "colab": {}
      },
      "cell_type": "code",
      "source": [
        "print(dictionary.token2id)"
      ],
      "execution_count": 0,
      "outputs": []
    },
    {
      "metadata": {
        "id": "H3fxUEXlfr07",
        "colab_type": "code",
        "colab": {}
      },
      "cell_type": "code",
      "source": [
        "# generate the Word2Vec model\n",
        "model = gensim.models.Word2Vec(processed_corpus, min_count=1)"
      ],
      "execution_count": 0,
      "outputs": []
    },
    {
      "metadata": {
        "id": "28t1DaieuFjc",
        "colab_type": "code",
        "colab": {}
      },
      "cell_type": "code",
      "source": [
        "print(model)\n",
        "print(model.wv.vocab)"
      ],
      "execution_count": 0,
      "outputs": []
    },
    {
      "metadata": {
        "id": "DmVgOmfQfr3s",
        "colab_type": "code",
        "colab": {}
      },
      "cell_type": "code",
      "source": [
        ""
      ],
      "execution_count": 0,
      "outputs": []
    },
    {
      "metadata": {
        "id": "6uE_tHKMfr6B",
        "colab_type": "code",
        "colab": {}
      },
      "cell_type": "code",
      "source": [
        ""
      ],
      "execution_count": 0,
      "outputs": []
    },
    {
      "metadata": {
        "id": "DAzyeUIKfr8e",
        "colab_type": "code",
        "colab": {}
      },
      "cell_type": "code",
      "source": [
        ""
      ],
      "execution_count": 0,
      "outputs": []
    },
    {
      "metadata": {
        "id": "eocOwaFxfr_C",
        "colab_type": "code",
        "colab": {}
      },
      "cell_type": "code",
      "source": [
        ""
      ],
      "execution_count": 0,
      "outputs": []
    },
    {
      "metadata": {
        "id": "6g4vCeOzfsBy",
        "colab_type": "code",
        "colab": {}
      },
      "cell_type": "code",
      "source": [
        ""
      ],
      "execution_count": 0,
      "outputs": []
    },
    {
      "metadata": {
        "id": "z--Liov4DI4I",
        "colab_type": "code",
        "colab": {}
      },
      "cell_type": "code",
      "source": [
        "# load an example dataset\n",
        "from vega_datasets import data\n",
        "cars = data.cars()\n",
        "\n",
        "# plot the dataset, referencing dataframe column names\n",
        "import altair as alt\n",
        "alt.Chart(cars).mark_bar().encode(\n",
        "  x=alt.X('Miles_per_Gallon', bin=True),\n",
        "  y='count()',\n",
        ")"
      ],
      "execution_count": 0,
      "outputs": []
    },
    {
      "metadata": {
        "id": "YSgNhnqwunDx",
        "colab_type": "code",
        "colab": {}
      },
      "cell_type": "code",
      "source": [
        "#https://github.com/RaRe-Technologies/gensim\n",
        "#https://github.com/RaRe-Technologies/gensim/blob/develop/docs/notebooks/gensim%20Quick%20Start.ipynb\n",
        "\n",
        "\n",
        "\n",
        "raw_corpus = [\"Human machine interface for lab abc computer applications\",\n",
        "             \"A survey of user opinion of computer system response time\",\n",
        "             \"The EPS user interface management system\",\n",
        "             \"System and human system engineering testing of EPS\",              \n",
        "             \"Relation of user perceived response time to error measurement\",\n",
        "             \"The generation of random binary unordered trees\",\n",
        "             \"The intersection graph of paths in trees\",\n",
        "             \"Graph minors IV Widths of trees and well quasi ordering\",\n",
        "             \"Graph minors A survey\"]\n",
        "\n",
        "# Create a set of frequent words\n",
        "stoplist = set('for a of the and to in'.split(' '))\n",
        "# Lowercase each document, split it by white space and filter out stopwords\n",
        "texts = [[word for word in document.lower().split() if word not in stoplist]\n",
        "         for document in raw_corpus]\n",
        "\n",
        "# Count word frequencies\n",
        "from collections import defaultdict\n",
        "frequency = defaultdict(int)\n",
        "for text in texts:\n",
        "    for token in text:\n",
        "        frequency[token] += 1\n",
        "\n",
        "# Only keep words that appear more than once\n",
        "processed_corpus = [[token for token in text if frequency[token] > 1] for text in texts]\n",
        "processed_corpus\n"
      ],
      "execution_count": 0,
      "outputs": []
    },
    {
      "metadata": {
        "id": "0qKHTczmo0vX",
        "colab_type": "code",
        "colab": {}
      },
      "cell_type": "code",
      "source": [
        "\n",
        "\n",
        "\n",
        "\n",
        "#These datasets contain information about all audio-video recordings of TED Talks uploaded to the official TED.com website until September 21st, 2017. The TED main dataset contains information about all talks including number of views, number of comments, descriptions, speakers and titles. The TED transcripts dataset contains the transcripts for all talks available on TED.com.\n",
        "#There are two CSV files:\n",
        "#ted_main.csv - Contains data on actual TED Talk metadata and TED Talk speakers.\n",
        "#transcripts.csv - Contains transcript and URL information for TED Talks\n",
        "\n"
      ],
      "execution_count": 0,
      "outputs": []
    },
    {
      "metadata": {
        "id": "YDqgXpl6uJje",
        "colab_type": "text"
      },
      "cell_type": "markdown",
      "source": [
        "# New \n"
      ]
    }
  ]
}