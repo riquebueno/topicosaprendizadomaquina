{
  "nbformat": 4,
  "nbformat_minor": 0,
  "metadata": {
    "colab": {
      "name": "Trabalho1TopicosAprendMaq.ipynb",
      "version": "0.3.2",
      "provenance": [],
      "collapsed_sections": [],
      "toc_visible": true,
      "include_colab_link": true
    },
    "kernelspec": {
      "name": "python3",
      "display_name": "Python 3"
    },
    "accelerator": "GPU"
  },
  "cells": [
    {
      "cell_type": "markdown",
      "metadata": {
        "id": "view-in-github",
        "colab_type": "text"
      },
      "source": [
        "[![Open In Colab](https://colab.research.google.com/assets/colab-badge.svg)](https://colab.research.google.com/github/riquebueno/topicosaprendizadomaquina/blob/master/Trabalho1TopicosAprendMaq.ipynb)"
      ]
    },
    {
      "metadata": {
        "id": "2K2frxTAxCiq",
        "colab_type": "code",
        "colab": {
          "base_uri": "https://localhost:8080/",
          "height": 34
        },
        "outputId": "50f56b61-8cba-40c2-e513-33ebe29d73ab"
      },
      "cell_type": "code",
      "source": [
        "import tensorflow as tf\n",
        "device_name = tf.test.gpu_device_name()\n",
        "if device_name != '/device:GPU:0':\n",
        "  raise SystemError('GPU device not found')\n",
        "print('Found GPU at: {}'.format(device_name))"
      ],
      "execution_count": 3,
      "outputs": [
        {
          "output_type": "stream",
          "text": [
            "Found GPU at: /device:GPU:0\n"
          ],
          "name": "stdout"
        }
      ]
    },
    {
      "metadata": {
        "id": "PXcxoAqMkKbA",
        "colab_type": "text"
      },
      "cell_type": "markdown",
      "source": [
        "https://towardsdatascience.com/learn-word2vec-by-implementing-it-in-tensorflow-45641adaf2ac\n",
        "\n",
        "https://medium.com/deep-math-machine-learning-ai/chapter-9-2-nlp-code-for-word2vec-neural-network-tensorflow-544db99f5334\n",
        "\n",
        "Será que é possível substituir o GENSIM pelo NLTK?\n",
        "\n",
        "ok Resolver o problema da diferença entre quantidade de registros do transcript e do main."
      ]
    },
    {
      "metadata": {
        "id": "Bec5IvJZcMJM",
        "colab_type": "text"
      },
      "cell_type": "markdown",
      "source": [
        "#Tópicos Avançados em Aprendizado de Máquina - Olhar esse artigo do Google https://cloud.google.com/blog/products/gcp/problem-solving-with-ml-automatic-document-classification - Antes de tudo fazer uma análise de dados com alguns gráficos - Acho que posso primeiro aplicar o TF-IDF para selecionar as 30 palavras mais importantes de cada documento, ao invés de pegar as 30 primeiras."
      ]
    },
    {
      "metadata": {
        "id": "A1UU5TDdvW6H",
        "colab_type": "code",
        "colab": {
          "base_uri": "https://localhost:8080/",
          "height": 955
        },
        "outputId": "b62d8873-1fad-420d-8a67-369631f1a399"
      },
      "cell_type": "code",
      "source": [
        "#Instalação de bibliotecas\n",
        "!pip install -U gensim\n",
        "!pip install -U nltk"
      ],
      "execution_count": 4,
      "outputs": [
        {
          "output_type": "stream",
          "text": [
            "Collecting gensim\n",
            "\u001b[?25l  Downloading https://files.pythonhosted.org/packages/27/a4/d10c0acc8528d838cda5eede0ee9c784caa598dbf40bd0911ff8d067a7eb/gensim-3.6.0-cp36-cp36m-manylinux1_x86_64.whl (23.6MB)\n",
            "\u001b[K    100% |████████████████████████████████| 23.6MB 2.0MB/s \n",
            "\u001b[?25hRequirement already satisfied, skipping upgrade: numpy>=1.11.3 in /usr/local/lib/python3.6/dist-packages (from gensim) (1.14.6)\n",
            "Requirement already satisfied, skipping upgrade: six>=1.5.0 in /usr/local/lib/python3.6/dist-packages (from gensim) (1.11.0)\n",
            "Requirement already satisfied, skipping upgrade: scipy>=0.18.1 in /usr/local/lib/python3.6/dist-packages (from gensim) (0.19.1)\n",
            "Collecting smart-open>=1.2.1 (from gensim)\n",
            "  Downloading https://files.pythonhosted.org/packages/4b/1f/6f27e3682124de63ac97a0a5876da6186de6c19410feab66c1543afab055/smart_open-1.7.1.tar.gz\n",
            "Collecting boto>=2.32 (from smart-open>=1.2.1->gensim)\n",
            "\u001b[?25l  Downloading https://files.pythonhosted.org/packages/23/10/c0b78c27298029e4454a472a1919bde20cb182dab1662cec7f2ca1dcc523/boto-2.49.0-py2.py3-none-any.whl (1.4MB)\n",
            "\u001b[K    100% |████████████████████████████████| 1.4MB 14.6MB/s \n",
            "\u001b[?25hCollecting bz2file (from smart-open>=1.2.1->gensim)\n",
            "  Downloading https://files.pythonhosted.org/packages/61/39/122222b5e85cd41c391b68a99ee296584b2a2d1d233e7ee32b4532384f2d/bz2file-0.98.tar.gz\n",
            "Requirement already satisfied, skipping upgrade: requests in /usr/local/lib/python3.6/dist-packages (from smart-open>=1.2.1->gensim) (2.18.4)\n",
            "Collecting boto3 (from smart-open>=1.2.1->gensim)\n",
            "\u001b[?25l  Downloading https://files.pythonhosted.org/packages/38/84/70d0857806db52a238886c2405730cd19728c70b40285c1653e1c95c6464/boto3-1.9.25-py2.py3-none-any.whl (128kB)\n",
            "\u001b[K    100% |████████████████████████████████| 133kB 28.2MB/s \n",
            "\u001b[?25hRequirement already satisfied, skipping upgrade: certifi>=2017.4.17 in /usr/local/lib/python3.6/dist-packages (from requests->smart-open>=1.2.1->gensim) (2018.10.15)\n",
            "Requirement already satisfied, skipping upgrade: urllib3<1.23,>=1.21.1 in /usr/local/lib/python3.6/dist-packages (from requests->smart-open>=1.2.1->gensim) (1.22)\n",
            "Requirement already satisfied, skipping upgrade: chardet<3.1.0,>=3.0.2 in /usr/local/lib/python3.6/dist-packages (from requests->smart-open>=1.2.1->gensim) (3.0.4)\n",
            "Requirement already satisfied, skipping upgrade: idna<2.7,>=2.5 in /usr/local/lib/python3.6/dist-packages (from requests->smart-open>=1.2.1->gensim) (2.6)\n",
            "Collecting botocore<1.13.0,>=1.12.25 (from boto3->smart-open>=1.2.1->gensim)\n",
            "\u001b[?25l  Downloading https://files.pythonhosted.org/packages/53/80/8328098290ca3bfeca05b96c4041c5a7f861219c22624ff482aa859107e9/botocore-1.12.25-py2.py3-none-any.whl (4.7MB)\n",
            "\u001b[K    100% |████████████████████████████████| 4.7MB 7.7MB/s \n",
            "\u001b[?25hCollecting s3transfer<0.2.0,>=0.1.10 (from boto3->smart-open>=1.2.1->gensim)\n",
            "\u001b[?25l  Downloading https://files.pythonhosted.org/packages/d7/14/2a0004d487464d120c9fb85313a75cd3d71a7506955be458eebfe19a6b1d/s3transfer-0.1.13-py2.py3-none-any.whl (59kB)\n",
            "\u001b[K    100% |████████████████████████████████| 61kB 26.1MB/s \n",
            "\u001b[?25hCollecting jmespath<1.0.0,>=0.7.1 (from boto3->smart-open>=1.2.1->gensim)\n",
            "  Downloading https://files.pythonhosted.org/packages/b7/31/05c8d001f7f87f0f07289a5fc0fc3832e9a57f2dbd4d3b0fee70e0d51365/jmespath-0.9.3-py2.py3-none-any.whl\n",
            "Requirement already satisfied, skipping upgrade: python-dateutil<3.0.0,>=2.1; python_version >= \"2.7\" in /usr/local/lib/python3.6/dist-packages (from botocore<1.13.0,>=1.12.25->boto3->smart-open>=1.2.1->gensim) (2.5.3)\n",
            "Collecting docutils>=0.10 (from botocore<1.13.0,>=1.12.25->boto3->smart-open>=1.2.1->gensim)\n",
            "\u001b[?25l  Downloading https://files.pythonhosted.org/packages/36/fa/08e9e6e0e3cbd1d362c3bbee8d01d0aedb2155c4ac112b19ef3cae8eed8d/docutils-0.14-py3-none-any.whl (543kB)\n",
            "\u001b[K    100% |████████████████████████████████| 552kB 25.4MB/s \n",
            "\u001b[?25hBuilding wheels for collected packages: smart-open, bz2file\n",
            "  Running setup.py bdist_wheel for smart-open ... \u001b[?25l-\b \b\\\b \bdone\n",
            "\u001b[?25h  Stored in directory: /root/.cache/pip/wheels/23/00/44/e5b939f7a80c04e32297dbd6d96fa3065af89ecf57e2b5f89f\n",
            "  Running setup.py bdist_wheel for bz2file ... \u001b[?25l-\b \bdone\n",
            "\u001b[?25h  Stored in directory: /root/.cache/pip/wheels/81/75/d6/e1317bf09bf1af5a30befc2a007869fa6e1f516b8f7c591cb9\n",
            "Successfully built smart-open bz2file\n",
            "Installing collected packages: boto, bz2file, jmespath, docutils, botocore, s3transfer, boto3, smart-open, gensim\n",
            "Successfully installed boto-2.49.0 boto3-1.9.25 botocore-1.12.25 bz2file-0.98 docutils-0.14 gensim-3.6.0 jmespath-0.9.3 s3transfer-0.1.13 smart-open-1.7.1\n",
            "Collecting nltk\n",
            "\u001b[?25l  Downloading https://files.pythonhosted.org/packages/50/09/3b1755d528ad9156ee7243d52aa5cd2b809ef053a0f31b53d92853dd653a/nltk-3.3.0.zip (1.4MB)\n",
            "\u001b[K    100% |████████████████████████████████| 1.4MB 12.0MB/s \n",
            "\u001b[?25hRequirement already satisfied, skipping upgrade: six in /usr/local/lib/python3.6/dist-packages (from nltk) (1.11.0)\n",
            "Building wheels for collected packages: nltk\n",
            "  Running setup.py bdist_wheel for nltk ... \u001b[?25l-\b \b\\\b \b|\b \b/\b \b-\b \b\\\b \bdone\n",
            "\u001b[?25h  Stored in directory: /root/.cache/pip/wheels/d1/ab/40/3bceea46922767e42986aef7606a600538ca80de6062dc266c\n",
            "Successfully built nltk\n",
            "Installing collected packages: nltk\n",
            "  Found existing installation: nltk 3.2.5\n",
            "    Uninstalling nltk-3.2.5:\n",
            "      Successfully uninstalled nltk-3.2.5\n",
            "Successfully installed nltk-3.3\n"
          ],
          "name": "stdout"
        }
      ]
    },
    {
      "metadata": {
        "id": "zmVcqC4adwVB",
        "colab_type": "code",
        "colab": {}
      },
      "cell_type": "code",
      "source": [
        "#Imports\n",
        "import pandas as pd\n",
        "import numpy as np\n",
        "import nltk as nltk\n",
        "from sklearn import datasets, linear_model\n",
        "import gensim, logging\n",
        "\n",
        "#set up logging\n",
        "logging.basicConfig(format='%(asctime)s : %(levelname)s : %(message)s', level=logging.INFO)"
      ],
      "execution_count": 0,
      "outputs": []
    },
    {
      "metadata": {
        "id": "AnARdMdXcTZ3",
        "colab_type": "code",
        "colab": {
          "base_uri": "https://localhost:8080/",
          "height": 139
        },
        "outputId": "410fa2ee-2f73-4f34-aa8f-298059c3de80"
      },
      "cell_type": "code",
      "source": [
        "#Leitura do dataset\n",
        "\n",
        "#df = pd.read_csv('ted_main.csv')\n",
        "#df.ratings[0]\n",
        "df = pd.read_csv('transcripts.csv')\n",
        "#umTexto = df.transcript[0]\n",
        "#olhar depois stopwords = nltk.corpus.stopwords.words('portuguese')\n",
        "#acho que também precisarei fazer stemming: pegar do nltk.stem!!!!!!!!!!!!!!!!!!!!\n",
        "#http://thalesbertaglia.com/enelvo/sobre/ para normalização\n",
        "textos = df['transcript']\n",
        "textos_URL = df['url']\n",
        "#print(textos[0])\n",
        "#print(textos_URL[0])\n",
        "\n",
        "\n",
        "df2 = pd.read_csv('ted_main.csv')\n",
        "#umTexto = df.transcript[0]\n",
        "#olhar depois stopwords = nltk.corpus.stopwords.words('portuguese')\n",
        "#acho que também precisarei fazer stemming: pegar do nltk.stem!!!!!!!!!!!!!!!!!!!!\n",
        "#http://thalesbertaglia.com/enelvo/sobre/ para normalização\n",
        "main_tags = df2['tags']\n",
        "main_URL = df2['url']\n",
        "#print(main_tags[0])\n",
        "#print(main_URL[0])\n",
        "\n",
        "#tabela que vai guardar o texto, os tags e as URLs\n",
        "#\n",
        "estruturaFinal=[]\n",
        "\n",
        "#Existem alguns textos sem transcrições. Irei descartá-los\n",
        "for indexTextos, textoURL in enumerate(textos_URL):\n",
        "  for indexMain, linhaMainURL in enumerate(main_URL):\n",
        "    if textoURL==linhaMainURL:\n",
        "      estruturaFinal.append([textos[indexTextos], main_tags[indexMain], textoURL])\n",
        "      break\n",
        "      \n",
        "#print(len(estruturaFinal))\n",
        "print(estruturaFinal[0][0])\n",
        "print(estruturaFinal[0][1])\n",
        "print(estruturaFinal[0][2])\n",
        "#print(\"===============\")\n",
        "#print(estruturaFinal[100][0])\n",
        "#print(estruturaFinal[100][1])\n",
        "#print(estruturaFinal[100][2])\n",
        "#print(\"===============\")\n",
        "#print(estruturaFinal[1000][0])\n",
        "#print(estruturaFinal[1000][1])\n",
        "#print(estruturaFinal[1000][2])\n",
        "#print(\"===============\")\n",
        "#print(estruturaFinal[2466][0])\n",
        "#print(estruturaFinal[2466][1])\n",
        "#print(estruturaFinal[2466][2])\n",
        "\n",
        "textos=[]\n",
        "for item in estruturaFinal:\n",
        "  textos.append(item[0])\n",
        "print(textos[0])\n",
        "\n",
        "#As 2 estruturas que usarei o tempo todo são estruturaFinal (texto, tag e url) e textos (texto)\n",
        "print(len(estruturaFinal))"
      ],
      "execution_count": 83,
      "outputs": [
        {
          "output_type": "stream",
          "text": [
            "Good morning. How are you?(Laughter)It's been great, hasn't it? I've been blown away by the whole thing. In fact, I'm leaving.(Laughter)There have been three themes running through the conference which are relevant to what I want to talk about. One is the extraordinary evidence of human creativity in all of the presentations that we've had and in all of the people here. Just the variety of it and the range of it. The second is that it's put us in a place where we have no idea what's going to happen, in terms of the future. No idea how this may play out.I have an interest in education. Actually, what I find is everybody has an interest in education. Don't you? I find this very interesting. If you're at a dinner party, and you say you work in education — Actually, you're not often at dinner parties, frankly.(Laughter)If you work in education, you're not asked.(Laughter)And you're never asked back, curiously. That's strange to me. But if you are, and you say to somebody, you know, they say, \"What do you do?\" and you say you work in education, you can see the blood run from their face. They're like, \"Oh my God,\" you know, \"Why me?\"(Laughter)\"My one night out all week.\"(Laughter)But if you ask about their education, they pin you to the wall. Because it's one of those things that goes deep with people, am I right? Like religion, and money and other things. So I have a big interest in education, and I think we all do. We have a huge vested interest in it, partly because it's education that's meant to take us into this future that we can't grasp. If you think of it, children starting school this year will be retiring in 2065. Nobody has a clue, despite all the expertise that's been on parade for the past four days, what the world will look like in five years' time. And yet we're meant to be educating them for it. So the unpredictability, I think, is extraordinary.And the third part of this is that we've all agreed, nonetheless, on the really extraordinary capacities that children have — their capacities for innovation. I mean, Sirena last night was a marvel, wasn't she? Just seeing what she could do. And she's exceptional, but I think she's not, so to speak, exceptional in the whole of childhood. What you have there is a person of extraordinary dedication who found a talent. And my contention is, all kids have tremendous talents. And we squander them, pretty ruthlessly.So I want to talk about education and I want to talk about creativity. My contention is that creativity now is as important in education as literacy, and we should treat it with the same status.(Applause) Thank you.(Applause)That was it, by the way. Thank you very much.(Laughter)So, 15 minutes left.(Laughter)Well, I was born... no.(Laughter)I heard a great story recently — I love telling it — of a little girl who was in a drawing lesson. She was six, and she was at the back, drawing, and the teacher said this girl hardly ever paid attention, and in this drawing lesson, she did. The teacher was fascinated. She went over to her, and she said, \"What are you drawing?\" And the girl said, \"I'm drawing a picture of God.\" And the teacher said, \"But nobody knows what God looks like.\" And the girl said, \"They will, in a minute.\"(Laughter)When my son was four in England — Actually, he was four everywhere, to be honest.(Laughter)If we're being strict about it, wherever he went, he was four that year. He was in the Nativity play. Do you remember the story?(Laughter)No, it was big, it was a big story. Mel Gibson did the sequel, you may have seen it.(Laughter)\"Nativity II.\" But James got the part of Joseph, which we were thrilled about. We considered this to be one of the lead parts. We had the place crammed full of agents in T-shirts: \"James Robinson IS Joseph!\" (Laughter) He didn't have to speak, but you know the bit where the three kings come in? They come in bearing gifts, gold, frankincense and myrrh. This really happened. We were sitting there and I think they just went out of sequence, because we talked to the little boy afterward and we said, \"You OK with that?\" And he said, \"Yeah, why? Was that wrong?\" They just switched. The three boys came in, four-year-olds with tea towels on their heads, and they put these boxes down, and the first boy said, \"I bring you gold.\" And the second boy said, \"I bring you myrrh.\" And the third boy said, \"Frank sent this.\"(Laughter)What these things have in common is that kids will take a chance. If they don't know, they'll have a go. Am I right? They're not frightened of being wrong. I don't mean to say that being wrong is the same thing as being creative. What we do know is, if you're not prepared to be wrong, you'll never come up with anything original — if you're not prepared to be wrong. And by the time they get to be adults, most kids have lost that capacity. They have become frightened of being wrong. And we run our companies like this. We stigmatize mistakes. And we're now running national education systems where mistakes are the worst thing you can make. And the result is that we are educating people out of their creative capacities.Picasso once said this, he said that all children are born artists. The problem is to remain an artist as we grow up. I believe this passionately, that we don't grow into creativity, we grow out of it. Or rather, we get educated out of it. So why is this?I lived in Stratford-on-Avon until about five years ago. In fact, we moved from Stratford to Los Angeles. So you can imagine what a seamless transition that was.(Laughter)Actually, we lived in a place called Snitterfield, just outside Stratford, which is where Shakespeare's father was born. Are you struck by a new thought? I was. You don't think of Shakespeare having a father, do you? Do you? Because you don't think of Shakespeare being a child, do you? Shakespeare being seven? I never thought of it. I mean, he was seven at some point. He was in somebody's English class, wasn't he?(Laughter)How annoying would that be?(Laughter)\"Must try harder.\"(Laughter)Being sent to bed by his dad, you know, to Shakespeare, \"Go to bed, now! And put the pencil down.\"(Laughter)\"And stop speaking like that.\"(Laughter)\"It's confusing everybody.\"(Laughter)Anyway, we moved from Stratford to Los Angeles, and I just want to say a word about the transition. My son didn't want to come. I've got two kids; he's 21 now, my daughter's 16. He didn't want to come to Los Angeles. He loved it, but he had a girlfriend in England. This was the love of his life, Sarah. He'd known her for a month.(Laughter)Mind you, they'd had their fourth anniversary, because it's a long time when you're 16. He was really upset on the plane, he said, \"I'll never find another girl like Sarah.\" And we were rather pleased about that, frankly —(Laughter)Because she was the main reason we were leaving the country.(Laughter)But something strikes you when you move to America and travel around the world: Every education system on Earth has the same hierarchy of subjects. Every one. Doesn't matter where you go. You'd think it would be otherwise, but it isn't. At the top are mathematics and languages, then the humanities, and at the bottom are the arts. Everywhere on Earth. And in pretty much every system too, there's a hierarchy within the arts. Art and music are normally given a higher status in schools than drama and dance. There isn't an education system on the planet that teaches dance everyday to children the way we teach them mathematics. Why? Why not? I think this is rather important. I think math is very important, but so is dance. Children dance all the time if they're allowed to, we all do. We all have bodies, don't we? Did I miss a meeting?(Laughter)Truthfully, what happens is, as children grow up, we start to educate them progressively from the waist up. And then we focus on their heads. And slightly to one side.If you were to visit education, as an alien, and say \"What's it for, public education?\" I think you'd have to conclude, if you look at the output, who really succeeds by this, who does everything that they should, who gets all the brownie points, who are the winners — I think you'd have to conclude the whole purpose of public education throughout the world is to produce university professors. Isn't it? They're the people who come out the top. And I used to be one, so there.(Laughter)And I like university professors, but you know, we shouldn't hold them up as the high-water mark of all human achievement. They're just a form of life, another form of life. But they're rather curious, and I say this out of affection for them. There's something curious about professors in my experience — not all of them, but typically, they live in their heads. They live up there, and slightly to one side. They're disembodied, you know, in a kind of literal way. They look upon their body as a form of transport for their heads.(Laughter)Don't they? It's a way of getting their head to meetings.(Laughter)If you want real evidence of out-of-body experiences, get yourself along to a residential conference of senior academics, and pop into the discotheque on the final night.(Laughter)And there, you will see it. Grown men and women writhing uncontrollably, off the beat.(Laughter)Waiting until it ends so they can go home and write a paper about it.(Laughter)Our education system is predicated on the idea of academic ability. And there's a reason. Around the world, there were no public systems of education, really, before the 19th century. They all came into being to meet the needs of industrialism. So the hierarchy is rooted on two ideas.Number one, that the most useful subjects for work are at the top. So you were probably steered benignly away from things at school when you were a kid, things you liked, on the grounds that you would never get a job doing that. Is that right? Don't do music, you're not going to be a musician; don't do art, you won't be an artist. Benign advice — now, profoundly mistaken. The whole world is engulfed in a revolution.And the second is academic ability, which has really come to dominate our view of intelligence, because the universities designed the system in their image. If you think of it, the whole system of public education around the world is a protracted process of university entrance. And the consequence is that many highly-talented, brilliant, creative people think they're not, because the thing they were good at at school wasn't valued, or was actually stigmatized. And I think we can't afford to go on that way.In the next 30 years, according to UNESCO, more people worldwide will be graduating through education than since the beginning of history. More people, and it's the combination of all the things we've talked about — technology and its transformation effect on work, and demography and the huge explosion in population.Suddenly, degrees aren't worth anything. Isn't that true? When I was a student, if you had a degree, you had a job. If you didn't have a job, it's because you didn't want one. And I didn't want one, frankly. (Laughter) But now kids with degrees are often heading home to carry on playing video games, because you need an MA where the previous job required a BA, and now you need a PhD for the other. It's a process of academic inflation. And it indicates the whole structure of education is shifting beneath our feet. We need to radically rethink our view of intelligence.We know three things about intelligence. One, it's diverse. We think about the world in all the ways that we experience it. We think visually, we think in sound, we think kinesthetically. We think in abstract terms, we think in movement. Secondly, intelligence is dynamic. If you look at the interactions of a human brain, as we heard yesterday from a number of presentations, intelligence is wonderfully interactive. The brain isn't divided into compartments. In fact, creativity — which I define as the process of having original ideas that have value — more often than not comes about through the interaction of different disciplinary ways of seeing things.By the way, there's a shaft of nerves that joins the two halves of the brain called the corpus callosum. It's thicker in women. Following off from Helen yesterday, this is probably why women are better at multi-tasking. Because you are, aren't you? There's a raft of research, but I know it from my personal life. If my wife is cooking a meal at home — which is not often, thankfully.(Laughter)No, she's good at some things, but if she's cooking, she's dealing with people on the phone, she's talking to the kids, she's painting the ceiling, she's doing open-heart surgery over here. If I'm cooking, the door is shut, the kids are out, the phone's on the hook, if she comes in I get annoyed. I say, \"Terry, please, I'm trying to fry an egg in here.\"(Laughter)\"Give me a break.\"(Laughter)Actually, do you know that old philosophical thing, if a tree falls in a forest and nobody hears it, did it happen? Remember that old chestnut? I saw a great t-shirt recently, which said, \"If a man speaks his mind in a forest, and no woman hears him, is he still wrong?\"(Laughter)And the third thing about intelligence is, it's distinct. I'm doing a new book at the moment called \"Epiphany,\" which is based on a series of interviews with people about how they discovered their talent. I'm fascinated by how people got to be there. It's really prompted by a conversation I had with a wonderful woman who maybe most people have never heard of, Gillian Lynne. Have you heard of her? Some have. She's a choreographer, and everybody knows her work. She did \"Cats\" and \"Phantom of the Opera.\" She's wonderful. I used to be on the board of The Royal Ballet, as you can see. Anyway, Gillian and I had lunch one day and I said, \"How did you get to be a dancer?\" It was interesting. When she was at school, she was really hopeless. And the school, in the '30s, wrote to her parents and said, \"We think Gillian has a learning disorder.\" She couldn't concentrate; she was fidgeting. I think now they'd say she had ADHD. Wouldn't you? But this was the 1930s, and ADHD hadn't been invented at this point. It wasn't an available condition.(Laughter)People weren't aware they could have that.(Laughter)Anyway, she went to see this specialist. So, this oak-paneled room, and she was there with her mother, and she was led and sat on this chair at the end, and she sat on her hands for 20 minutes while this man talked to her mother about the problems Gillian was having at school. Because she was disturbing people; her homework was always late; and so on, little kid of eight. In the end, the doctor went and sat next to Gillian, and said, \"I've listened to all these things your mother's told me, I need to speak to her privately. Wait here. We'll be back; we won't be very long,\" and they went and left her.But as they went out of the room, he turned on the radio that was sitting on his desk. And when they got out, he said to her mother, \"Just stand and watch her.\" And the minute they left the room, she was on her feet, moving to the music. And they watched for a few minutes and he turned to her mother and said, \"Mrs. Lynne, Gillian isn't sick; she's a dancer. Take her to a dance school.\"I said, \"What happened?\" She said, \"She did. I can't tell you how wonderful it was. We walked in this room and it was full of people like me. People who couldn't sit still. People who had to move to think.\" Who had to move to think. They did ballet, they did tap, jazz; they did modern; they did contemporary. She was eventually auditioned for the Royal Ballet School; she became a soloist; she had a wonderful career at the Royal Ballet. She eventually graduated from the Royal Ballet School, founded the Gillian Lynne Dance Company, met Andrew Lloyd Webber. She's been responsible for some of the most successful musical theater productions in history, she's given pleasure to millions, and she's a multi-millionaire. Somebody else might have put her on medication and told her to calm down.(Applause)What I think it comes to is this: Al Gore spoke the other night about ecology and the revolution that was triggered by Rachel Carson. I believe our only hope for the future is to adopt a new conception of human ecology, one in which we start to reconstitute our conception of the richness of human capacity. Our education system has mined our minds in the way that we strip-mine the earth: for a particular commodity. And for the future, it won't serve us. We have to rethink the fundamental principles on which we're educating our children.There was a wonderful quote by Jonas Salk, who said, \"If all the insects were to disappear from the Earth, within 50 years all life on Earth would end. If all human beings disappeared from the Earth, within 50 years all forms of life would flourish.\" And he's right.What TED celebrates is the gift of the human imagination. We have to be careful now that we use this gift wisely and that we avert some of the scenarios that we've talked about. And the only way we'll do it is by seeing our creative capacities for the richness they are and seeing our children for the hope that they are. And our task is to educate their whole being, so they can face this future. By the way — we may not see this future, but they will. And our job is to help them make something of it.Thank you very much.(Applause)\n",
            "['children', 'creativity', 'culture', 'dance', 'education', 'parenting', 'teaching']\n",
            "https://www.ted.com/talks/ken_robinson_says_schools_kill_creativity\n",
            "\n",
            "Good morning. How are you?(Laughter)It's been great, hasn't it? I've been blown away by the whole thing. In fact, I'm leaving.(Laughter)There have been three themes running through the conference which are relevant to what I want to talk about. One is the extraordinary evidence of human creativity in all of the presentations that we've had and in all of the people here. Just the variety of it and the range of it. The second is that it's put us in a place where we have no idea what's going to happen, in terms of the future. No idea how this may play out.I have an interest in education. Actually, what I find is everybody has an interest in education. Don't you? I find this very interesting. If you're at a dinner party, and you say you work in education — Actually, you're not often at dinner parties, frankly.(Laughter)If you work in education, you're not asked.(Laughter)And you're never asked back, curiously. That's strange to me. But if you are, and you say to somebody, you know, they say, \"What do you do?\" and you say you work in education, you can see the blood run from their face. They're like, \"Oh my God,\" you know, \"Why me?\"(Laughter)\"My one night out all week.\"(Laughter)But if you ask about their education, they pin you to the wall. Because it's one of those things that goes deep with people, am I right? Like religion, and money and other things. So I have a big interest in education, and I think we all do. We have a huge vested interest in it, partly because it's education that's meant to take us into this future that we can't grasp. If you think of it, children starting school this year will be retiring in 2065. Nobody has a clue, despite all the expertise that's been on parade for the past four days, what the world will look like in five years' time. And yet we're meant to be educating them for it. So the unpredictability, I think, is extraordinary.And the third part of this is that we've all agreed, nonetheless, on the really extraordinary capacities that children have — their capacities for innovation. I mean, Sirena last night was a marvel, wasn't she? Just seeing what she could do. And she's exceptional, but I think she's not, so to speak, exceptional in the whole of childhood. What you have there is a person of extraordinary dedication who found a talent. And my contention is, all kids have tremendous talents. And we squander them, pretty ruthlessly.So I want to talk about education and I want to talk about creativity. My contention is that creativity now is as important in education as literacy, and we should treat it with the same status.(Applause) Thank you.(Applause)That was it, by the way. Thank you very much.(Laughter)So, 15 minutes left.(Laughter)Well, I was born... no.(Laughter)I heard a great story recently — I love telling it — of a little girl who was in a drawing lesson. She was six, and she was at the back, drawing, and the teacher said this girl hardly ever paid attention, and in this drawing lesson, she did. The teacher was fascinated. She went over to her, and she said, \"What are you drawing?\" And the girl said, \"I'm drawing a picture of God.\" And the teacher said, \"But nobody knows what God looks like.\" And the girl said, \"They will, in a minute.\"(Laughter)When my son was four in England — Actually, he was four everywhere, to be honest.(Laughter)If we're being strict about it, wherever he went, he was four that year. He was in the Nativity play. Do you remember the story?(Laughter)No, it was big, it was a big story. Mel Gibson did the sequel, you may have seen it.(Laughter)\"Nativity II.\" But James got the part of Joseph, which we were thrilled about. We considered this to be one of the lead parts. We had the place crammed full of agents in T-shirts: \"James Robinson IS Joseph!\" (Laughter) He didn't have to speak, but you know the bit where the three kings come in? They come in bearing gifts, gold, frankincense and myrrh. This really happened. We were sitting there and I think they just went out of sequence, because we talked to the little boy afterward and we said, \"You OK with that?\" And he said, \"Yeah, why? Was that wrong?\" They just switched. The three boys came in, four-year-olds with tea towels on their heads, and they put these boxes down, and the first boy said, \"I bring you gold.\" And the second boy said, \"I bring you myrrh.\" And the third boy said, \"Frank sent this.\"(Laughter)What these things have in common is that kids will take a chance. If they don't know, they'll have a go. Am I right? They're not frightened of being wrong. I don't mean to say that being wrong is the same thing as being creative. What we do know is, if you're not prepared to be wrong, you'll never come up with anything original — if you're not prepared to be wrong. And by the time they get to be adults, most kids have lost that capacity. They have become frightened of being wrong. And we run our companies like this. We stigmatize mistakes. And we're now running national education systems where mistakes are the worst thing you can make. And the result is that we are educating people out of their creative capacities.Picasso once said this, he said that all children are born artists. The problem is to remain an artist as we grow up. I believe this passionately, that we don't grow into creativity, we grow out of it. Or rather, we get educated out of it. So why is this?I lived in Stratford-on-Avon until about five years ago. In fact, we moved from Stratford to Los Angeles. So you can imagine what a seamless transition that was.(Laughter)Actually, we lived in a place called Snitterfield, just outside Stratford, which is where Shakespeare's father was born. Are you struck by a new thought? I was. You don't think of Shakespeare having a father, do you? Do you? Because you don't think of Shakespeare being a child, do you? Shakespeare being seven? I never thought of it. I mean, he was seven at some point. He was in somebody's English class, wasn't he?(Laughter)How annoying would that be?(Laughter)\"Must try harder.\"(Laughter)Being sent to bed by his dad, you know, to Shakespeare, \"Go to bed, now! And put the pencil down.\"(Laughter)\"And stop speaking like that.\"(Laughter)\"It's confusing everybody.\"(Laughter)Anyway, we moved from Stratford to Los Angeles, and I just want to say a word about the transition. My son didn't want to come. I've got two kids; he's 21 now, my daughter's 16. He didn't want to come to Los Angeles. He loved it, but he had a girlfriend in England. This was the love of his life, Sarah. He'd known her for a month.(Laughter)Mind you, they'd had their fourth anniversary, because it's a long time when you're 16. He was really upset on the plane, he said, \"I'll never find another girl like Sarah.\" And we were rather pleased about that, frankly —(Laughter)Because she was the main reason we were leaving the country.(Laughter)But something strikes you when you move to America and travel around the world: Every education system on Earth has the same hierarchy of subjects. Every one. Doesn't matter where you go. You'd think it would be otherwise, but it isn't. At the top are mathematics and languages, then the humanities, and at the bottom are the arts. Everywhere on Earth. And in pretty much every system too, there's a hierarchy within the arts. Art and music are normally given a higher status in schools than drama and dance. There isn't an education system on the planet that teaches dance everyday to children the way we teach them mathematics. Why? Why not? I think this is rather important. I think math is very important, but so is dance. Children dance all the time if they're allowed to, we all do. We all have bodies, don't we? Did I miss a meeting?(Laughter)Truthfully, what happens is, as children grow up, we start to educate them progressively from the waist up. And then we focus on their heads. And slightly to one side.If you were to visit education, as an alien, and say \"What's it for, public education?\" I think you'd have to conclude, if you look at the output, who really succeeds by this, who does everything that they should, who gets all the brownie points, who are the winners — I think you'd have to conclude the whole purpose of public education throughout the world is to produce university professors. Isn't it? They're the people who come out the top. And I used to be one, so there.(Laughter)And I like university professors, but you know, we shouldn't hold them up as the high-water mark of all human achievement. They're just a form of life, another form of life. But they're rather curious, and I say this out of affection for them. There's something curious about professors in my experience — not all of them, but typically, they live in their heads. They live up there, and slightly to one side. They're disembodied, you know, in a kind of literal way. They look upon their body as a form of transport for their heads.(Laughter)Don't they? It's a way of getting their head to meetings.(Laughter)If you want real evidence of out-of-body experiences, get yourself along to a residential conference of senior academics, and pop into the discotheque on the final night.(Laughter)And there, you will see it. Grown men and women writhing uncontrollably, off the beat.(Laughter)Waiting until it ends so they can go home and write a paper about it.(Laughter)Our education system is predicated on the idea of academic ability. And there's a reason. Around the world, there were no public systems of education, really, before the 19th century. They all came into being to meet the needs of industrialism. So the hierarchy is rooted on two ideas.Number one, that the most useful subjects for work are at the top. So you were probably steered benignly away from things at school when you were a kid, things you liked, on the grounds that you would never get a job doing that. Is that right? Don't do music, you're not going to be a musician; don't do art, you won't be an artist. Benign advice — now, profoundly mistaken. The whole world is engulfed in a revolution.And the second is academic ability, which has really come to dominate our view of intelligence, because the universities designed the system in their image. If you think of it, the whole system of public education around the world is a protracted process of university entrance. And the consequence is that many highly-talented, brilliant, creative people think they're not, because the thing they were good at at school wasn't valued, or was actually stigmatized. And I think we can't afford to go on that way.In the next 30 years, according to UNESCO, more people worldwide will be graduating through education than since the beginning of history. More people, and it's the combination of all the things we've talked about — technology and its transformation effect on work, and demography and the huge explosion in population.Suddenly, degrees aren't worth anything. Isn't that true? When I was a student, if you had a degree, you had a job. If you didn't have a job, it's because you didn't want one. And I didn't want one, frankly. (Laughter) But now kids with degrees are often heading home to carry on playing video games, because you need an MA where the previous job required a BA, and now you need a PhD for the other. It's a process of academic inflation. And it indicates the whole structure of education is shifting beneath our feet. We need to radically rethink our view of intelligence.We know three things about intelligence. One, it's diverse. We think about the world in all the ways that we experience it. We think visually, we think in sound, we think kinesthetically. We think in abstract terms, we think in movement. Secondly, intelligence is dynamic. If you look at the interactions of a human brain, as we heard yesterday from a number of presentations, intelligence is wonderfully interactive. The brain isn't divided into compartments. In fact, creativity — which I define as the process of having original ideas that have value — more often than not comes about through the interaction of different disciplinary ways of seeing things.By the way, there's a shaft of nerves that joins the two halves of the brain called the corpus callosum. It's thicker in women. Following off from Helen yesterday, this is probably why women are better at multi-tasking. Because you are, aren't you? There's a raft of research, but I know it from my personal life. If my wife is cooking a meal at home — which is not often, thankfully.(Laughter)No, she's good at some things, but if she's cooking, she's dealing with people on the phone, she's talking to the kids, she's painting the ceiling, she's doing open-heart surgery over here. If I'm cooking, the door is shut, the kids are out, the phone's on the hook, if she comes in I get annoyed. I say, \"Terry, please, I'm trying to fry an egg in here.\"(Laughter)\"Give me a break.\"(Laughter)Actually, do you know that old philosophical thing, if a tree falls in a forest and nobody hears it, did it happen? Remember that old chestnut? I saw a great t-shirt recently, which said, \"If a man speaks his mind in a forest, and no woman hears him, is he still wrong?\"(Laughter)And the third thing about intelligence is, it's distinct. I'm doing a new book at the moment called \"Epiphany,\" which is based on a series of interviews with people about how they discovered their talent. I'm fascinated by how people got to be there. It's really prompted by a conversation I had with a wonderful woman who maybe most people have never heard of, Gillian Lynne. Have you heard of her? Some have. She's a choreographer, and everybody knows her work. She did \"Cats\" and \"Phantom of the Opera.\" She's wonderful. I used to be on the board of The Royal Ballet, as you can see. Anyway, Gillian and I had lunch one day and I said, \"How did you get to be a dancer?\" It was interesting. When she was at school, she was really hopeless. And the school, in the '30s, wrote to her parents and said, \"We think Gillian has a learning disorder.\" She couldn't concentrate; she was fidgeting. I think now they'd say she had ADHD. Wouldn't you? But this was the 1930s, and ADHD hadn't been invented at this point. It wasn't an available condition.(Laughter)People weren't aware they could have that.(Laughter)Anyway, she went to see this specialist. So, this oak-paneled room, and she was there with her mother, and she was led and sat on this chair at the end, and she sat on her hands for 20 minutes while this man talked to her mother about the problems Gillian was having at school. Because she was disturbing people; her homework was always late; and so on, little kid of eight. In the end, the doctor went and sat next to Gillian, and said, \"I've listened to all these things your mother's told me, I need to speak to her privately. Wait here. We'll be back; we won't be very long,\" and they went and left her.But as they went out of the room, he turned on the radio that was sitting on his desk. And when they got out, he said to her mother, \"Just stand and watch her.\" And the minute they left the room, she was on her feet, moving to the music. And they watched for a few minutes and he turned to her mother and said, \"Mrs. Lynne, Gillian isn't sick; she's a dancer. Take her to a dance school.\"I said, \"What happened?\" She said, \"She did. I can't tell you how wonderful it was. We walked in this room and it was full of people like me. People who couldn't sit still. People who had to move to think.\" Who had to move to think. They did ballet, they did tap, jazz; they did modern; they did contemporary. She was eventually auditioned for the Royal Ballet School; she became a soloist; she had a wonderful career at the Royal Ballet. She eventually graduated from the Royal Ballet School, founded the Gillian Lynne Dance Company, met Andrew Lloyd Webber. She's been responsible for some of the most successful musical theater productions in history, she's given pleasure to millions, and she's a multi-millionaire. Somebody else might have put her on medication and told her to calm down.(Applause)What I think it comes to is this: Al Gore spoke the other night about ecology and the revolution that was triggered by Rachel Carson. I believe our only hope for the future is to adopt a new conception of human ecology, one in which we start to reconstitute our conception of the richness of human capacity. Our education system has mined our minds in the way that we strip-mine the earth: for a particular commodity. And for the future, it won't serve us. We have to rethink the fundamental principles on which we're educating our children.There was a wonderful quote by Jonas Salk, who said, \"If all the insects were to disappear from the Earth, within 50 years all life on Earth would end. If all human beings disappeared from the Earth, within 50 years all forms of life would flourish.\" And he's right.What TED celebrates is the gift of the human imagination. We have to be careful now that we use this gift wisely and that we avert some of the scenarios that we've talked about. And the only way we'll do it is by seeing our creative capacities for the richness they are and seeing our children for the hope that they are. And our task is to educate their whole being, so they can face this future. By the way — we may not see this future, but they will. And our job is to help them make something of it.Thank you very much.(Applause)\n",
            "2467\n"
          ],
          "name": "stdout"
        }
      ]
    },
    {
      "metadata": {
        "id": "1XIJMKz6-2Rh",
        "colab_type": "code",
        "colab": {
          "base_uri": "https://localhost:8080/",
          "height": 88
        },
        "outputId": "c8608e5b-5908-49b4-987e-2d70a378c157"
      },
      "cell_type": "code",
      "source": [
        "#Etapa de pré-processamento\n",
        "#Preciso dar mais atenção à etapa de pré-processamento\n",
        "\n",
        "caracteresARemover = \"[]?<>\\{\\}\\(\\)!@#$.,;:\\\"\\'-_—♫\"\n",
        "\n",
        "textosProcessados = []\n",
        "#Remoção de caracteres\n",
        "for texto in textos:\n",
        "  for i in range(0,len(caracteresARemover)):\n",
        "    texto = texto.lower().replace(caracteresARemover[i],\" \")\n",
        "  textosProcessados.append(texto)\n",
        "  \n",
        "#Split dos textos e eliminação de palavras vazias\n",
        "palavrasDeTodosOsTextos = []\n",
        "for texto in textosProcessados:\n",
        "  palavrasDeUmTexto = texto.split(\" \")\n",
        "  #removendo os strings vazios\n",
        "  palavrasDeUmTexto = list(filter(None, palavrasDeUmTexto))\n",
        "  palavrasDeTodosOsTextos.append(palavrasDeUmTexto)\n",
        "  \n",
        "#PENDENTE - Aplicar TF-IDF\n",
        "#................\n",
        "#................\n",
        "#................\n",
        "\n",
        "# Count word frequencies\n",
        "from collections import defaultdict\n",
        "frequency = defaultdict(int)\n",
        "for text in palavrasDeTodosOsTextos:\n",
        "    for token in text:\n",
        "        frequency[token] += 1  \n",
        "\n",
        "# Only keep words that appear more than once\n",
        "processed_corpus = [[token for token in text if frequency[token] > 1] for text in palavrasDeTodosOsTextos]\n",
        "\n",
        "#Preciso eliminar as linhas do processed_corpus que tem menos de NUM_COLUNAS palavras. Esse valor será ajustado para 300\n",
        "NUM_COLUNAS=300\n",
        "for index, linha in enumerate(processed_corpus):\n",
        "  if len(linha)<NUM_COLUNAS:\n",
        "    del processed_corpus[index]\n",
        "    del estruturaFinal[index]\n",
        "    del textos[index]#acho que nao precisa pq nao usarei mais essa estrutura\n",
        "\n",
        "\n",
        "print(len(processed_corpus))\n",
        "print(len(estruturaFinal))#texto, tag e url\n",
        "print(processed_corpus[0])"
      ],
      "execution_count": 84,
      "outputs": [
        {
          "output_type": "stream",
          "text": [
            "2432\n",
            "2432\n",
            "['good', 'morning', 'how', 'are', 'you', 'laughter', 'it', 's', 'been', 'great', 'hasn', 't', 'it', 'i', 've', 'been', 'blown', 'away', 'by', 'the', 'whole', 'thing', 'in', 'fact', 'i', 'm', 'leaving', 'laughter', 'there', 'have', 'been', 'three', 'themes', 'running', 'through', 'the', 'conference', 'which', 'are', 'relevant', 'to', 'what', 'i', 'want', 'to', 'talk', 'about', 'one', 'is', 'the', 'extraordinary', 'evidence', 'of', 'human', 'creativity', 'in', 'all', 'of', 'the', 'presentations', 'that', 'we', 've', 'had', 'and', 'in', 'all', 'of', 'the', 'people', 'here', 'just', 'the', 'variety', 'of', 'it', 'and', 'the', 'range', 'of', 'it', 'the', 'second', 'is', 'that', 'it', 's', 'put', 'us', 'in', 'a', 'place', 'where', 'we', 'have', 'no', 'idea', 'what', 's', 'going', 'to', 'happen', 'in', 'terms', 'of', 'the', 'future', 'no', 'idea', 'how', 'this', 'may', 'play', 'out', 'i', 'have', 'an', 'interest', 'in', 'education', 'actually', 'what', 'i', 'find', 'is', 'everybody', 'has', 'an', 'interest', 'in', 'education', 'don', 't', 'you', 'i', 'find', 'this', 'very', 'interesting', 'if', 'you', 're', 'at', 'a', 'dinner', 'party', 'and', 'you', 'say', 'you', 'work', 'in', 'education', 'actually', 'you', 're', 'not', 'often', 'at', 'dinner', 'parties', 'frankly', 'laughter', 'if', 'you', 'work', 'in', 'education', 'you', 're', 'not', 'asked', 'laughter', 'and', 'you', 're', 'never', 'asked', 'back', 'curiously', 'that', 's', 'strange', 'to', 'me', 'but', 'if', 'you', 'are', 'and', 'you', 'say', 'to', 'somebody', 'you', 'know', 'they', 'say', 'what', 'do', 'you', 'do', 'and', 'you', 'say', 'you', 'work', 'in', 'education', 'you', 'can', 'see', 'the', 'blood', 'run', 'from', 'their', 'face', 'they', 're', 'like', 'oh', 'my', 'god', 'you', 'know', 'why', 'me', 'laughter', 'my', 'one', 'night', 'out', 'all', 'week', 'laughter', 'but', 'if', 'you', 'ask', 'about', 'their', 'education', 'they', 'pin', 'you', 'to', 'the', 'wall', 'because', 'it', 's', 'one', 'of', 'those', 'things', 'that', 'goes', 'deep', 'with', 'people', 'am', 'i', 'right', 'like', 'religion', 'and', 'money', 'and', 'other', 'things', 'so', 'i', 'have', 'a', 'big', 'interest', 'in', 'education', 'and', 'i', 'think', 'we', 'all', 'do', 'we', 'have', 'a', 'huge', 'vested', 'interest', 'in', 'it', 'partly', 'because', 'it', 's', 'education', 'that', 's', 'meant', 'to', 'take', 'us', 'into', 'this', 'future', 'that', 'we', 'can', 't', 'grasp', 'if', 'you', 'think', 'of', 'it', 'children', 'starting', 'school', 'this', 'year', 'will', 'be', 'retiring', 'in', 'nobody', 'has', 'a', 'clue', 'despite', 'all', 'the', 'expertise', 'that', 's', 'been', 'on', 'parade', 'for', 'the', 'past', 'four', 'days', 'what', 'the', 'world', 'will', 'look', 'like', 'in', 'five', 'years', 'time', 'and', 'yet', 'we', 're', 'meant', 'to', 'be', 'educating', 'them', 'for', 'it', 'so', 'the', 'unpredictability', 'i', 'think', 'is', 'extraordinary', 'and', 'the', 'third', 'part', 'of', 'this', 'is', 'that', 'we', 've', 'all', 'agreed', 'nonetheless', 'on', 'the', 'really', 'extraordinary', 'capacities', 'that', 'children', 'have', 'their', 'capacities', 'for', 'innovation', 'i', 'mean', 'sirena', 'last', 'night', 'was', 'a', 'marvel', 'wasn', 't', 'she', 'just', 'seeing', 'what', 'she', 'could', 'do', 'and', 'she', 's', 'exceptional', 'but', 'i', 'think', 'she', 's', 'not', 'so', 'to', 'speak', 'exceptional', 'in', 'the', 'whole', 'of', 'childhood', 'what', 'you', 'have', 'there', 'is', 'a', 'person', 'of', 'extraordinary', 'dedication', 'who', 'found', 'a', 'talent', 'and', 'my', 'contention', 'is', 'all', 'kids', 'have', 'tremendous', 'talents', 'and', 'we', 'squander', 'them', 'pretty', 'ruthlessly', 'so', 'i', 'want', 'to', 'talk', 'about', 'education', 'and', 'i', 'want', 'to', 'talk', 'about', 'creativity', 'my', 'contention', 'is', 'that', 'creativity', 'now', 'is', 'as', 'important', 'in', 'education', 'as', 'literacy', 'and', 'we', 'should', 'treat', 'it', 'with', 'the', 'same', 'status', 'applause', 'thank', 'you', 'applause', 'that', 'was', 'it', 'by', 'the', 'way', 'thank', 'you', 'very', 'much', 'laughter', 'so', '15', 'minutes', 'left', 'laughter', 'well', 'i', 'was', 'born', 'no', 'laughter', 'i', 'heard', 'a', 'great', 'story', 'recently', 'i', 'love', 'telling', 'it', 'of', 'a', 'little', 'girl', 'who', 'was', 'in', 'a', 'drawing', 'lesson', 'she', 'was', 'six', 'and', 'she', 'was', 'at', 'the', 'back', 'drawing', 'and', 'the', 'teacher', 'said', 'this', 'girl', 'hardly', 'ever', 'paid', 'attention', 'and', 'in', 'this', 'drawing', 'lesson', 'she', 'did', 'the', 'teacher', 'was', 'fascinated', 'she', 'went', 'over', 'to', 'her', 'and', 'she', 'said', 'what', 'are', 'you', 'drawing', 'and', 'the', 'girl', 'said', 'i', 'm', 'drawing', 'a', 'picture', 'of', 'god', 'and', 'the', 'teacher', 'said', 'but', 'nobody', 'knows', 'what', 'god', 'looks', 'like', 'and', 'the', 'girl', 'said', 'they', 'will', 'in', 'a', 'minute', 'laughter', 'when', 'my', 'son', 'was', 'four', 'in', 'england', 'actually', 'he', 'was', 'four', 'everywhere', 'to', 'be', 'honest', 'laughter', 'if', 'we', 're', 'being', 'strict', 'about', 'it', 'wherever', 'he', 'went', 'he', 'was', 'four', 'that', 'year', 'he', 'was', 'in', 'the', 'nativity', 'play', 'do', 'you', 'remember', 'the', 'story', 'laughter', 'no', 'it', 'was', 'big', 'it', 'was', 'a', 'big', 'story', 'mel', 'gibson', 'did', 'the', 'sequel', 'you', 'may', 'have', 'seen', 'it', 'laughter', 'nativity', 'ii', 'but', 'james', 'got', 'the', 'part', 'of', 'joseph', 'which', 'we', 'were', 'thrilled', 'about', 'we', 'considered', 'this', 'to', 'be', 'one', 'of', 'the', 'lead', 'parts', 'we', 'had', 'the', 'place', 'crammed', 'full', 'of', 'agents', 'in', 't', 'shirts', 'james', 'robinson', 'is', 'joseph', 'laughter', 'he', 'didn', 't', 'have', 'to', 'speak', 'but', 'you', 'know', 'the', 'bit', 'where', 'the', 'three', 'kings', 'come', 'in', 'they', 'come', 'in', 'bearing', 'gifts', 'gold', 'and', 'myrrh', 'this', 'really', 'happened', 'we', 'were', 'sitting', 'there', 'and', 'i', 'think', 'they', 'just', 'went', 'out', 'of', 'sequence', 'because', 'we', 'talked', 'to', 'the', 'little', 'boy', 'afterward', 'and', 'we', 'said', 'you', 'ok', 'with', 'that', 'and', 'he', 'said', 'yeah', 'why', 'was', 'that', 'wrong', 'they', 'just', 'switched', 'the', 'three', 'boys', 'came', 'in', 'four', 'year', 'olds', 'with', 'tea', 'towels', 'on', 'their', 'heads', 'and', 'they', 'put', 'these', 'boxes', 'down', 'and', 'the', 'first', 'boy', 'said', 'i', 'bring', 'you', 'gold', 'and', 'the', 'second', 'boy', 'said', 'i', 'bring', 'you', 'myrrh', 'and', 'the', 'third', 'boy', 'said', 'frank', 'sent', 'this', 'laughter', 'what', 'these', 'things', 'have', 'in', 'common', 'is', 'that', 'kids', 'will', 'take', 'a', 'chance', 'if', 'they', 'don', 't', 'know', 'they', 'll', 'have', 'a', 'go', 'am', 'i', 'right', 'they', 're', 'not', 'frightened', 'of', 'being', 'wrong', 'i', 'don', 't', 'mean', 'to', 'say', 'that', 'being', 'wrong', 'is', 'the', 'same', 'thing', 'as', 'being', 'creative', 'what', 'we', 'do', 'know', 'is', 'if', 'you', 're', 'not', 'prepared', 'to', 'be', 'wrong', 'you', 'll', 'never', 'come', 'up', 'with', 'anything', 'original', 'if', 'you', 're', 'not', 'prepared', 'to', 'be', 'wrong', 'and', 'by', 'the', 'time', 'they', 'get', 'to', 'be', 'adults', 'most', 'kids', 'have', 'lost', 'that', 'capacity', 'they', 'have', 'become', 'frightened', 'of', 'being', 'wrong', 'and', 'we', 'run', 'our', 'companies', 'like', 'this', 'we', 'stigmatize', 'mistakes', 'and', 'we', 're', 'now', 'running', 'national', 'education', 'systems', 'where', 'mistakes', 'are', 'the', 'worst', 'thing', 'you', 'can', 'make', 'and', 'the', 'result', 'is', 'that', 'we', 'are', 'educating', 'people', 'out', 'of', 'their', 'creative', 'capacities', 'picasso', 'once', 'said', 'this', 'he', 'said', 'that', 'all', 'children', 'are', 'born', 'artists', 'the', 'problem', 'is', 'to', 'remain', 'an', 'artist', 'as', 'we', 'grow', 'up', 'i', 'believe', 'this', 'passionately', 'that', 'we', 'don', 't', 'grow', 'into', 'creativity', 'we', 'grow', 'out', 'of', 'it', 'or', 'rather', 'we', 'get', 'educated', 'out', 'of', 'it', 'so', 'why', 'is', 'this', 'i', 'lived', 'in', 'stratford', 'on', 'until', 'about', 'five', 'years', 'ago', 'in', 'fact', 'we', 'moved', 'from', 'stratford', 'to', 'los', 'angeles', 'so', 'you', 'can', 'imagine', 'what', 'a', 'seamless', 'transition', 'that', 'was', 'laughter', 'actually', 'we', 'lived', 'in', 'a', 'place', 'called', 'just', 'outside', 'stratford', 'which', 'is', 'where', 'shakespeare', 's', 'father', 'was', 'born', 'are', 'you', 'struck', 'by', 'a', 'new', 'thought', 'i', 'was', 'you', 'don', 't', 'think', 'of', 'shakespeare', 'having', 'a', 'father', 'do', 'you', 'do', 'you', 'because', 'you', 'don', 't', 'think', 'of', 'shakespeare', 'being', 'a', 'child', 'do', 'you', 'shakespeare', 'being', 'seven', 'i', 'never', 'thought', 'of', 'it', 'i', 'mean', 'he', 'was', 'seven', 'at', 'some', 'point', 'he', 'was', 'in', 'somebody', 's', 'english', 'class', 'wasn', 't', 'he', 'laughter', 'how', 'annoying', 'would', 'that', 'be', 'laughter', 'must', 'try', 'harder', 'laughter', 'being', 'sent', 'to', 'bed', 'by', 'his', 'dad', 'you', 'know', 'to', 'shakespeare', 'go', 'to', 'bed', 'now', 'and', 'put', 'the', 'pencil', 'down', 'laughter', 'and', 'stop', 'speaking', 'like', 'that', 'laughter', 'it', 's', 'confusing', 'everybody', 'laughter', 'anyway', 'we', 'moved', 'from', 'stratford', 'to', 'los', 'angeles', 'and', 'i', 'just', 'want', 'to', 'say', 'a', 'word', 'about', 'the', 'transition', 'my', 'son', 'didn', 't', 'want', 'to', 'come', 'i', 've', 'got', 'two', 'kids', 'he', 's', '21', 'now', 'my', 'daughter', 's', '16', 'he', 'didn', 't', 'want', 'to', 'come', 'to', 'los', 'angeles', 'he', 'loved', 'it', 'but', 'he', 'had', 'a', 'girlfriend', 'in', 'england', 'this', 'was', 'the', 'love', 'of', 'his', 'life', 'sarah', 'he', 'd', 'known', 'her', 'for', 'a', 'month', 'laughter', 'mind', 'you', 'they', 'd', 'had', 'their', 'fourth', 'anniversary', 'because', 'it', 's', 'a', 'long', 'time', 'when', 'you', 're', '16', 'he', 'was', 'really', 'upset', 'on', 'the', 'plane', 'he', 'said', 'i', 'll', 'never', 'find', 'another', 'girl', 'like', 'sarah', 'and', 'we', 'were', 'rather', 'pleased', 'about', 'that', 'frankly', 'laughter', 'because', 'she', 'was', 'the', 'main', 'reason', 'we', 'were', 'leaving', 'the', 'country', 'laughter', 'but', 'something', 'strikes', 'you', 'when', 'you', 'move', 'to', 'america', 'and', 'travel', 'around', 'the', 'world', 'every', 'education', 'system', 'on', 'earth', 'has', 'the', 'same', 'hierarchy', 'of', 'subjects', 'every', 'one', 'doesn', 't', 'matter', 'where', 'you', 'go', 'you', 'd', 'think', 'it', 'would', 'be', 'otherwise', 'but', 'it', 'isn', 't', 'at', 'the', 'top', 'are', 'mathematics', 'and', 'languages', 'then', 'the', 'humanities', 'and', 'at', 'the', 'bottom', 'are', 'the', 'arts', 'everywhere', 'on', 'earth', 'and', 'in', 'pretty', 'much', 'every', 'system', 'too', 'there', 's', 'a', 'hierarchy', 'within', 'the', 'arts', 'art', 'and', 'music', 'are', 'normally', 'given', 'a', 'higher', 'status', 'in', 'schools', 'than', 'drama', 'and', 'dance', 'there', 'isn', 't', 'an', 'education', 'system', 'on', 'the', 'planet', 'that', 'teaches', 'dance', 'everyday', 'to', 'children', 'the', 'way', 'we', 'teach', 'them', 'mathematics', 'why', 'why', 'not', 'i', 'think', 'this', 'is', 'rather', 'important', 'i', 'think', 'math', 'is', 'very', 'important', 'but', 'so', 'is', 'dance', 'children', 'dance', 'all', 'the', 'time', 'if', 'they', 're', 'allowed', 'to', 'we', 'all', 'do', 'we', 'all', 'have', 'bodies', 'don', 't', 'we', 'did', 'i', 'miss', 'a', 'meeting', 'laughter', 'truthfully', 'what', 'happens', 'is', 'as', 'children', 'grow', 'up', 'we', 'start', 'to', 'educate', 'them', 'progressively', 'from', 'the', 'waist', 'up', 'and', 'then', 'we', 'focus', 'on', 'their', 'heads', 'and', 'slightly', 'to', 'one', 'side', 'if', 'you', 'were', 'to', 'visit', 'education', 'as', 'an', 'alien', 'and', 'say', 'what', 's', 'it', 'for', 'public', 'education', 'i', 'think', 'you', 'd', 'have', 'to', 'conclude', 'if', 'you', 'look', 'at', 'the', 'output', 'who', 'really', 'succeeds', 'by', 'this', 'who', 'does', 'everything', 'that', 'they', 'should', 'who', 'gets', 'all', 'the', 'brownie', 'points', 'who', 'are', 'the', 'winners', 'i', 'think', 'you', 'd', 'have', 'to', 'conclude', 'the', 'whole', 'purpose', 'of', 'public', 'education', 'throughout', 'the', 'world', 'is', 'to', 'produce', 'university', 'professors', 'isn', 't', 'it', 'they', 're', 'the', 'people', 'who', 'come', 'out', 'the', 'top', 'and', 'i', 'used', 'to', 'be', 'one', 'so', 'there', 'laughter', 'and', 'i', 'like', 'university', 'professors', 'but', 'you', 'know', 'we', 'shouldn', 't', 'hold', 'them', 'up', 'as', 'the', 'high', 'water', 'mark', 'of', 'all', 'human', 'achievement', 'they', 're', 'just', 'a', 'form', 'of', 'life', 'another', 'form', 'of', 'life', 'but', 'they', 're', 'rather', 'curious', 'and', 'i', 'say', 'this', 'out', 'of', 'affection', 'for', 'them', 'there', 's', 'something', 'curious', 'about', 'professors', 'in', 'my', 'experience', 'not', 'all', 'of', 'them', 'but', 'typically', 'they', 'live', 'in', 'their', 'heads', 'they', 'live', 'up', 'there', 'and', 'slightly', 'to', 'one', 'side', 'they', 're', 'disembodied', 'you', 'know', 'in', 'a', 'kind', 'of', 'literal', 'way', 'they', 'look', 'upon', 'their', 'body', 'as', 'a', 'form', 'of', 'transport', 'for', 'their', 'heads', 'laughter', 'don', 't', 'they', 'it', 's', 'a', 'way', 'of', 'getting', 'their', 'head', 'to', 'meetings', 'laughter', 'if', 'you', 'want', 'real', 'evidence', 'of', 'out', 'of', 'body', 'experiences', 'get', 'yourself', 'along', 'to', 'a', 'residential', 'conference', 'of', 'senior', 'academics', 'and', 'pop', 'into', 'the', 'discotheque', 'on', 'the', 'final', 'night', 'laughter', 'and', 'there', 'you', 'will', 'see', 'it', 'grown', 'men', 'and', 'women', 'writhing', 'uncontrollably', 'off', 'the', 'beat', 'laughter', 'waiting', 'until', 'it', 'ends', 'so', 'they', 'can', 'go', 'home', 'and', 'write', 'a', 'paper', 'about', 'it', 'laughter', 'our', 'education', 'system', 'is', 'predicated', 'on', 'the', 'idea', 'of', 'academic', 'ability', 'and', 'there', 's', 'a', 'reason', 'around', 'the', 'world', 'there', 'were', 'no', 'public', 'systems', 'of', 'education', 'really', 'before', 'the', '19th', 'century', 'they', 'all', 'came', 'into', 'being', 'to', 'meet', 'the', 'needs', 'of', 'so', 'the', 'hierarchy', 'is', 'rooted', 'on', 'two', 'ideas', 'number', 'one', 'that', 'the', 'most', 'useful', 'subjects', 'for', 'work', 'are', 'at', 'the', 'top', 'so', 'you', 'were', 'probably', 'steered', 'benignly', 'away', 'from', 'things', 'at', 'school', 'when', 'you', 'were', 'a', 'kid', 'things', 'you', 'liked', 'on', 'the', 'grounds', 'that', 'you', 'would', 'never', 'get', 'a', 'job', 'doing', 'that', 'is', 'that', 'right', 'don', 't', 'do', 'music', 'you', 're', 'not', 'going', 'to', 'be', 'a', 'musician', 'don', 't', 'do', 'art', 'you', 'won', 't', 'be', 'an', 'artist', 'benign', 'advice', 'now', 'profoundly', 'mistaken', 'the', 'whole', 'world', 'is', 'engulfed', 'in', 'a', 'revolution', 'and', 'the', 'second', 'is', 'academic', 'ability', 'which', 'has', 'really', 'come', 'to', 'dominate', 'our', 'view', 'of', 'intelligence', 'because', 'the', 'universities', 'designed', 'the', 'system', 'in', 'their', 'image', 'if', 'you', 'think', 'of', 'it', 'the', 'whole', 'system', 'of', 'public', 'education', 'around', 'the', 'world', 'is', 'a', 'protracted', 'process', 'of', 'university', 'entrance', 'and', 'the', 'consequence', 'is', 'that', 'many', 'highly', 'talented', 'brilliant', 'creative', 'people', 'think', 'they', 're', 'not', 'because', 'the', 'thing', 'they', 'were', 'good', 'at', 'at', 'school', 'wasn', 't', 'valued', 'or', 'was', 'actually', 'stigmatized', 'and', 'i', 'think', 'we', 'can', 't', 'afford', 'to', 'go', 'on', 'that', 'way', 'in', 'the', 'next', '30', 'years', 'according', 'to', 'unesco', 'more', 'people', 'worldwide', 'will', 'be', 'graduating', 'through', 'education', 'than', 'since', 'the', 'beginning', 'of', 'history', 'more', 'people', 'and', 'it', 's', 'the', 'combination', 'of', 'all', 'the', 'things', 'we', 've', 'talked', 'about', 'technology', 'and', 'its', 'transformation', 'effect', 'on', 'work', 'and', 'demography', 'and', 'the', 'huge', 'explosion', 'in', 'population', 'suddenly', 'degrees', 'aren', 't', 'worth', 'anything', 'isn', 't', 'that', 'true', 'when', 'i', 'was', 'a', 'student', 'if', 'you', 'had', 'a', 'degree', 'you', 'had', 'a', 'job', 'if', 'you', 'didn', 't', 'have', 'a', 'job', 'it', 's', 'because', 'you', 'didn', 't', 'want', 'one', 'and', 'i', 'didn', 't', 'want', 'one', 'frankly', 'laughter', 'but', 'now', 'kids', 'with', 'degrees', 'are', 'often', 'heading', 'home', 'to', 'carry', 'on', 'playing', 'video', 'games', 'because', 'you', 'need', 'an', 'ma', 'where', 'the', 'previous', 'job', 'required', 'a', 'ba', 'and', 'now', 'you', 'need', 'a', 'phd', 'for', 'the', 'other', 'it', 's', 'a', 'process', 'of', 'academic', 'inflation', 'and', 'it', 'indicates', 'the', 'whole', 'structure', 'of', 'education', 'is', 'shifting', 'beneath', 'our', 'feet', 'we', 'need', 'to', 'radically', 'rethink', 'our', 'view', 'of', 'intelligence', 'we', 'know', 'three', 'things', 'about', 'intelligence', 'one', 'it', 's', 'diverse', 'we', 'think', 'about', 'the', 'world', 'in', 'all', 'the', 'ways', 'that', 'we', 'experience', 'it', 'we', 'think', 'visually', 'we', 'think', 'in', 'sound', 'we', 'think', 'kinesthetically', 'we', 'think', 'in', 'abstract', 'terms', 'we', 'think', 'in', 'movement', 'secondly', 'intelligence', 'is', 'dynamic', 'if', 'you', 'look', 'at', 'the', 'interactions', 'of', 'a', 'human', 'brain', 'as', 'we', 'heard', 'yesterday', 'from', 'a', 'number', 'of', 'presentations', 'intelligence', 'is', 'wonderfully', 'interactive', 'the', 'brain', 'isn', 't', 'divided', 'into', 'compartments', 'in', 'fact', 'creativity', 'which', 'i', 'define', 'as', 'the', 'process', 'of', 'having', 'original', 'ideas', 'that', 'have', 'value', 'more', 'often', 'than', 'not', 'comes', 'about', 'through', 'the', 'interaction', 'of', 'different', 'disciplinary', 'ways', 'of', 'seeing', 'things', 'by', 'the', 'way', 'there', 's', 'a', 'shaft', 'of', 'nerves', 'that', 'joins', 'the', 'two', 'halves', 'of', 'the', 'brain', 'called', 'the', 'corpus', 'callosum', 'it', 's', 'thicker', 'in', 'women', 'following', 'off', 'from', 'helen', 'yesterday', 'this', 'is', 'probably', 'why', 'women', 'are', 'better', 'at', 'multi', 'tasking', 'because', 'you', 'are', 'aren', 't', 'you', 'there', 's', 'a', 'raft', 'of', 'research', 'but', 'i', 'know', 'it', 'from', 'my', 'personal', 'life', 'if', 'my', 'wife', 'is', 'cooking', 'a', 'meal', 'at', 'home', 'which', 'is', 'not', 'often', 'thankfully', 'laughter', 'no', 'she', 's', 'good', 'at', 'some', 'things', 'but', 'if', 'she', 's', 'cooking', 'she', 's', 'dealing', 'with', 'people', 'on', 'the', 'phone', 'she', 's', 'talking', 'to', 'the', 'kids', 'she', 's', 'painting', 'the', 'ceiling', 'she', 's', 'doing', 'open', 'heart', 'surgery', 'over', 'here', 'if', 'i', 'm', 'cooking', 'the', 'door', 'is', 'shut', 'the', 'kids', 'are', 'out', 'the', 'phone', 's', 'on', 'the', 'hook', 'if', 'she', 'comes', 'in', 'i', 'get', 'annoyed', 'i', 'say', 'terry', 'please', 'i', 'm', 'trying', 'to', 'fry', 'an', 'egg', 'in', 'here', 'laughter', 'give', 'me', 'a', 'break', 'laughter', 'actually', 'do', 'you', 'know', 'that', 'old', 'philosophical', 'thing', 'if', 'a', 'tree', 'falls', 'in', 'a', 'forest', 'and', 'nobody', 'hears', 'it', 'did', 'it', 'happen', 'remember', 'that', 'old', 'chestnut', 'i', 'saw', 'a', 'great', 't', 'shirt', 'recently', 'which', 'said', 'if', 'a', 'man', 'speaks', 'his', 'mind', 'in', 'a', 'forest', 'and', 'no', 'woman', 'hears', 'him', 'is', 'he', 'still', 'wrong', 'laughter', 'and', 'the', 'third', 'thing', 'about', 'intelligence', 'is', 'it', 's', 'distinct', 'i', 'm', 'doing', 'a', 'new', 'book', 'at', 'the', 'moment', 'called', 'epiphany', 'which', 'is', 'based', 'on', 'a', 'series', 'of', 'interviews', 'with', 'people', 'about', 'how', 'they', 'discovered', 'their', 'talent', 'i', 'm', 'fascinated', 'by', 'how', 'people', 'got', 'to', 'be', 'there', 'it', 's', 'really', 'prompted', 'by', 'a', 'conversation', 'i', 'had', 'with', 'a', 'wonderful', 'woman', 'who', 'maybe', 'most', 'people', 'have', 'never', 'heard', 'of', 'gillian', 'lynne', 'have', 'you', 'heard', 'of', 'her', 'some', 'have', 'she', 's', 'a', 'choreographer', 'and', 'everybody', 'knows', 'her', 'work', 'she', 'did', 'cats', 'and', 'phantom', 'of', 'the', 'opera', 'she', 's', 'wonderful', 'i', 'used', 'to', 'be', 'on', 'the', 'board', 'of', 'the', 'royal', 'ballet', 'as', 'you', 'can', 'see', 'anyway', 'gillian', 'and', 'i', 'had', 'lunch', 'one', 'day', 'and', 'i', 'said', 'how', 'did', 'you', 'get', 'to', 'be', 'a', 'dancer', 'it', 'was', 'interesting', 'when', 'she', 'was', 'at', 'school', 'she', 'was', 'really', 'hopeless', 'and', 'the', 'school', 'in', 'the', '30s', 'wrote', 'to', 'her', 'parents', 'and', 'said', 'we', 'think', 'gillian', 'has', 'a', 'learning', 'disorder', 'she', 'couldn', 't', 'concentrate', 'she', 'was', 'fidgeting', 'i', 'think', 'now', 'they', 'd', 'say', 'she', 'had', 'adhd', 'wouldn', 't', 'you', 'but', 'this', 'was', 'the', '1930s', 'and', 'adhd', 'hadn', 't', 'been', 'invented', 'at', 'this', 'point', 'it', 'wasn', 't', 'an', 'available', 'condition', 'laughter', 'people', 'weren', 't', 'aware', 'they', 'could', 'have', 'that', 'laughter', 'anyway', 'she', 'went', 'to', 'see', 'this', 'specialist', 'so', 'this', 'oak', 'room', 'and', 'she', 'was', 'there', 'with', 'her', 'mother', 'and', 'she', 'was', 'led', 'and', 'sat', 'on', 'this', 'chair', 'at', 'the', 'end', 'and', 'she', 'sat', 'on', 'her', 'hands', 'for', '20', 'minutes', 'while', 'this', 'man', 'talked', 'to', 'her', 'mother', 'about', 'the', 'problems', 'gillian', 'was', 'having', 'at', 'school', 'because', 'she', 'was', 'disturbing', 'people', 'her', 'homework', 'was', 'always', 'late', 'and', 'so', 'on', 'little', 'kid', 'of', 'eight', 'in', 'the', 'end', 'the', 'doctor', 'went', 'and', 'sat', 'next', 'to', 'gillian', 'and', 'said', 'i', 've', 'listened', 'to', 'all', 'these', 'things', 'your', 'mother', 's', 'told', 'me', 'i', 'need', 'to', 'speak', 'to', 'her', 'privately', 'wait', 'here', 'we', 'll', 'be', 'back', 'we', 'won', 't', 'be', 'very', 'long', 'and', 'they', 'went', 'and', 'left', 'her', 'but', 'as', 'they', 'went', 'out', 'of', 'the', 'room', 'he', 'turned', 'on', 'the', 'radio', 'that', 'was', 'sitting', 'on', 'his', 'desk', 'and', 'when', 'they', 'got', 'out', 'he', 'said', 'to', 'her', 'mother', 'just', 'stand', 'and', 'watch', 'her', 'and', 'the', 'minute', 'they', 'left', 'the', 'room', 'she', 'was', 'on', 'her', 'feet', 'moving', 'to', 'the', 'music', 'and', 'they', 'watched', 'for', 'a', 'few', 'minutes', 'and', 'he', 'turned', 'to', 'her', 'mother', 'and', 'said', 'mrs', 'lynne', 'gillian', 'isn', 't', 'sick', 'she', 's', 'a', 'dancer', 'take', 'her', 'to', 'a', 'dance', 'school', 'i', 'said', 'what', 'happened', 'she', 'said', 'she', 'did', 'i', 'can', 't', 'tell', 'you', 'how', 'wonderful', 'it', 'was', 'we', 'walked', 'in', 'this', 'room', 'and', 'it', 'was', 'full', 'of', 'people', 'like', 'me', 'people', 'who', 'couldn', 't', 'sit', 'still', 'people', 'who', 'had', 'to', 'move', 'to', 'think', 'who', 'had', 'to', 'move', 'to', 'think', 'they', 'did', 'ballet', 'they', 'did', 'tap', 'jazz', 'they', 'did', 'modern', 'they', 'did', 'contemporary', 'she', 'was', 'eventually', 'auditioned', 'for', 'the', 'royal', 'ballet', 'school', 'she', 'became', 'a', 'soloist', 'she', 'had', 'a', 'wonderful', 'career', 'at', 'the', 'royal', 'ballet', 'she', 'eventually', 'graduated', 'from', 'the', 'royal', 'ballet', 'school', 'founded', 'the', 'gillian', 'lynne', 'dance', 'company', 'met', 'andrew', 'lloyd', 'she', 's', 'been', 'responsible', 'for', 'some', 'of', 'the', 'most', 'successful', 'musical', 'theater', 'productions', 'in', 'history', 'she', 's', 'given', 'pleasure', 'to', 'millions', 'and', 'she', 's', 'a', 'multi', 'millionaire', 'somebody', 'else', 'might', 'have', 'put', 'her', 'on', 'medication', 'and', 'told', 'her', 'to', 'calm', 'down', 'applause', 'what', 'i', 'think', 'it', 'comes', 'to', 'is', 'this', 'al', 'gore', 'spoke', 'the', 'other', 'night', 'about', 'ecology', 'and', 'the', 'revolution', 'that', 'was', 'triggered', 'by', 'rachel', 'carson', 'i', 'believe', 'our', 'only', 'hope', 'for', 'the', 'future', 'is', 'to', 'adopt', 'a', 'new', 'conception', 'of', 'human', 'ecology', 'one', 'in', 'which', 'we', 'start', 'to', 'reconstitute', 'our', 'conception', 'of', 'the', 'richness', 'of', 'human', 'capacity', 'our', 'education', 'system', 'has', 'mined', 'our', 'minds', 'in', 'the', 'way', 'that', 'we', 'strip', 'mine', 'the', 'earth', 'for', 'a', 'particular', 'commodity', 'and', 'for', 'the', 'future', 'it', 'won', 't', 'serve', 'us', 'we', 'have', 'to', 'rethink', 'the', 'fundamental', 'principles', 'on', 'which', 'we', 're', 'educating', 'our', 'children', 'there', 'was', 'a', 'wonderful', 'quote', 'by', 'jonas', 'salk', 'who', 'said', 'if', 'all', 'the', 'insects', 'were', 'to', 'disappear', 'from', 'the', 'earth', 'within', '50', 'years', 'all', 'life', 'on', 'earth', 'would', 'end', 'if', 'all', 'human', 'beings', 'disappeared', 'from', 'the', 'earth', 'within', '50', 'years', 'all', 'forms', 'of', 'life', 'would', 'flourish', 'and', 'he', 's', 'right', 'what', 'ted', 'celebrates', 'is', 'the', 'gift', 'of', 'the', 'human', 'imagination', 'we', 'have', 'to', 'be', 'careful', 'now', 'that', 'we', 'use', 'this', 'gift', 'wisely', 'and', 'that', 'we', 'avert', 'some', 'of', 'the', 'scenarios', 'that', 'we', 've', 'talked', 'about', 'and', 'the', 'only', 'way', 'we', 'll', 'do', 'it', 'is', 'by', 'seeing', 'our', 'creative', 'capacities', 'for', 'the', 'richness', 'they', 'are', 'and', 'seeing', 'our', 'children', 'for', 'the', 'hope', 'that', 'they', 'are', 'and', 'our', 'task', 'is', 'to', 'educate', 'their', 'whole', 'being', 'so', 'they', 'can', 'face', 'this', 'future', 'by', 'the', 'way', 'we', 'may', 'not', 'see', 'this', 'future', 'but', 'they', 'will', 'and', 'our', 'job', 'is', 'to', 'help', 'them', 'make', 'something', 'of', 'it', 'thank', 'you', 'very', 'much', 'applause']\n"
          ],
          "name": "stdout"
        }
      ]
    },
    {
      "metadata": {
        "id": "Dbs9gErV_nDM",
        "colab_type": "code",
        "colab": {
          "base_uri": "https://localhost:8080/",
          "height": 102
        },
        "outputId": "4aae0424-362c-4f24-d8a3-5ee8d54fba35"
      },
      "cell_type": "code",
      "source": [
        "#Recuperação dos modelos de embedding\n",
        "\n",
        "import gensim.downloader as api\n",
        "modelGlove = api.load(\"glove-wiki-gigaword-100\")\n",
        "#modelWord2Vec = api.load(\"word2vec-google-news-300\")\n",
        "#modelFastText = api.load(\"fasttext-wiki-news-subwords-300\")\n",
        "\n",
        "#como verificar se uma palavra existe em um Word2VecKeyedVectors?\n",
        "#vector = modelGlove[\"cant\"]  # numpy vector of a word\n",
        "#vector.shape\n",
        "#vector"
      ],
      "execution_count": 69,
      "outputs": [
        {
          "output_type": "stream",
          "text": [
            "2018-10-17 19:00:39,264 : INFO : Creating /root/gensim-data\n"
          ],
          "name": "stderr"
        },
        {
          "output_type": "stream",
          "text": [
            "[==================================================] 100.0% 128.1/128.1MB downloaded\n"
          ],
          "name": "stdout"
        },
        {
          "output_type": "stream",
          "text": [
            "2018-10-17 19:01:11,759 : INFO : glove-wiki-gigaword-100 downloaded\n",
            "2018-10-17 19:01:11,762 : INFO : loading projection weights from /root/gensim-data/glove-wiki-gigaword-100/glove-wiki-gigaword-100.gz\n",
            "2018-10-17 19:02:09,986 : INFO : loaded (400000, 100) matrix from /root/gensim-data/glove-wiki-gigaword-100/glove-wiki-gigaword-100.gz\n"
          ],
          "name": "stderr"
        }
      ]
    },
    {
      "metadata": {
        "id": "US_v_AwS-pEi",
        "colab_type": "code",
        "colab": {}
      },
      "cell_type": "code",
      "source": [
        "#Criação da matriz de embeddings\n",
        "\n",
        "#agora vou converter a tabela de textos processed_corpus para uma\n",
        "#tabela de vetores. Substitui cada vetor pela média de seus valores.\n",
        "#Assim, a célula passou a ser um número e não um vetor.\n",
        "\n",
        "numeroLinhas=len(processed_corpus)\n",
        "numeroColunas=10000\n",
        "\n",
        "#matrizDeVetores=[]\n",
        "#matrizDeVetores=np.empty([len(processed_corpus), 10000])\n",
        "matrizDeVetores=np.empty((numeroLinhas, numeroColunas))\n",
        "\n",
        "for index, linha in enumerate(processed_corpus):\n",
        "  print(index)\n",
        "  #linhaDeVetores=[]\n",
        "  #linhaDeVetores=np.empty((1, numeroColunas))\n",
        "  coluna=0\n",
        "  for indicePalavra, palavra in enumerate(linha):\n",
        "    try:\n",
        "      vetorDaPalavra = modelGlove[palavra]\n",
        "      \n",
        "      #Sugestão para fazer a média do embedding\n",
        "      #http://nadbordrozd.github.io/blog/2016/05/20/text-classification-with-word2vec/\n",
        "      mediaDoVetorDaPalavra=np.mean(vetorDaPalavra)\n",
        "      #linhaDeVetores.append(vetorDaPalavra)\n",
        "      #linhaDeVetores.append(mediaDoVetorDaPalavra)\n",
        "      matrizDeVetores[index][coluna]=mediaDoVetorDaPalavra\n",
        "      coluna=coluna+1\n",
        "    except:\n",
        "      #print(palavra)\n",
        "      #print(\"Unexpected error:\", sys.exc_info()[0])\n",
        "      continue\n",
        "    \n",
        "  #matrizDeVetores.append(linhaDeVetores)\n",
        "  #matrizDeVetores[index] = linhaDeVetores\n",
        "\n",
        "print(len(matrizDeVetores[0]))\n",
        "#print(matrizDeVetores)"
      ],
      "execution_count": 0,
      "outputs": []
    },
    {
      "metadata": {
        "id": "M3TGgEHafLHY",
        "colab_type": "code",
        "colab": {
          "base_uri": "https://localhost:8080/",
          "height": 51
        },
        "outputId": "424d9fde-7e6d-4d23-bbee-00c1f93349f4"
      },
      "cell_type": "code",
      "source": [
        "print(matrizDeVetores.shape)\n",
        "\n",
        "#existe algum linha sem nenhuma palavra?\n",
        "print(len(matrizDeVetores))\n",
        "\n",
        "for elem in matrizDeVetores:\n",
        "  if len(elem)==0:\n",
        "    print(str(index) + \"vazioooooooo!\")"
      ],
      "execution_count": 127,
      "outputs": [
        {
          "output_type": "stream",
          "text": [
            "(2432, 10000)\n",
            "2432\n"
          ],
          "name": "stdout"
        }
      ]
    },
    {
      "metadata": {
        "id": "VCDtmUZ9tlRn",
        "colab_type": "code",
        "colab": {
          "base_uri": "https://localhost:8080/",
          "height": 68
        },
        "outputId": "2cde28d3-8dc9-4d63-fffc-fba8c47d60f2"
      },
      "cell_type": "code",
      "source": [
        "total=0\n",
        "min=10000000\n",
        "max=-1\n",
        "for item in matrizDeVetores:\n",
        "  total=total+len(item)\n",
        "  if len(item)<min:\n",
        "    min=len(item)\n",
        "  if len(item)>max:\n",
        "    max=len(item)\n",
        "media=total/len(matrizDeVetores)\n",
        "print(\"media \" + str(media))\n",
        "print(\"min \" + str(min))\n",
        "print(\"max \" + str(max))\n"
      ],
      "execution_count": 118,
      "outputs": [
        {
          "output_type": "stream",
          "text": [
            "media 2141.0793585526317\n",
            "min 304\n",
            "max 9363\n"
          ],
          "name": "stdout"
        }
      ]
    },
    {
      "metadata": {
        "id": "k3jKIDz4rHyP",
        "colab_type": "code",
        "colab": {
          "base_uri": "https://localhost:8080/",
          "height": 102
        },
        "outputId": "efde3da7-f871-47ac-b3d9-4508094288f5"
      },
      "cell_type": "code",
      "source": [
        "print(matrizDeVetores[0])\n",
        "print(matrizDeVetores[1])\n",
        "print(matrizDeVetores[1][0])"
      ],
      "execution_count": 128,
      "outputs": [
        {
          "output_type": "stream",
          "text": [
            "[-5.47338724e-02 -1.56281404e-02 -7.28304908e-02 ...  7.11730072e-67\n",
            "  3.24249373e-86  1.17687697e-47]\n",
            "[-2.29197294e-002 -2.67957300e-002 -4.29836139e-002 ...  1.05206362e-153\n",
            "  1.31505368e-047  1.25767118e-076]\n",
            "-0.022919729351997375\n"
          ],
          "name": "stdout"
        }
      ]
    },
    {
      "metadata": {
        "id": "Kb5xpNp2wIE_",
        "colab_type": "code",
        "colab": {}
      },
      "cell_type": "code",
      "source": [
        "#Vou limitar matrizDeVetores para 300 colunas\n"
      ],
      "execution_count": 0,
      "outputs": []
    },
    {
      "metadata": {
        "id": "359Uesd-4qMt",
        "colab_type": "code",
        "colab": {
          "base_uri": "https://localhost:8080/",
          "height": 105
        },
        "outputId": "e9e8db42-a9eb-44d6-8bda-cb6df859cc2b"
      },
      "cell_type": "code",
      "source": [
        "#Criação do vetor de classificações Y\n",
        "\n",
        "#preciso gerar o código que gerará o vetor Y. Primeiro vou trabalhar com apenas\n",
        "#o primeiro tag. Depois trabalharei com multi-label.\n",
        "#df = pd.read_csv('ted_main.csv')\n",
        "#df.ratings[0]\n",
        "Y=[]\n",
        "#tags = df['tags']\n",
        "\n",
        "tags=[]\n",
        "for item in estruturaFinal:\n",
        "  tags.append(item[1])#0: texto, 1:tags, 2: url\n",
        "\n",
        "for linha in tags:\n",
        "  linha=linha.lower()\n",
        "  linha=linha.replace(\"[\",\"\")\n",
        "  linha=linha.replace(\"]\",\"\")\n",
        "  linha=linha.replace(\"'\",\"\")\n",
        "  linhaSplitada=linha.split(\",\")\n",
        "  primeiroTagDaLinha=linhaSplitada[0]\n",
        "  Y.append(primeiroTagDaLinha)\n",
        "print(len(Y))\n",
        "print(Y)\n",
        "mySet=set(Y)\n",
        "print(len(mySet))#numero de tags diferentes\n",
        "print(mySet)\n",
        "print(tags)"
      ],
      "execution_count": 129,
      "outputs": [
        {
          "output_type": "stream",
          "text": [
            "2432\n",
            "['children', 'alternative energy', 'computers', 'macarthur grant', 'africa', 'business', 'christianity', 'architecture', 'god', 'christianity', 'activism', 'ted prize', 'ted prize', 'demo', 'children', 'entertainment', 'creativity', 'macarthur grant', 'dna', 'business', 'business', 'collaboration', 'business', 'cognitive science', 'culture', 'climate change', 'astronomy', 'business', 'business', 'ted brain trust', 'business', 'cancer', 'aging', 'alternative energy', 'africa', 'business', 'business', 'nasa', 'climate change', 'aids', 'ted prize', 'ted prize', 'culture', 'culture', 'ted brain trust', 'choice', 'ted brain trust', 'business', 'culture', 'culture', 'business', 'aids', 'anthropology', 'activism', 'astronomy', 'collaboration', 'cities', 'business', 'macarthur grant', 'macarthur grant', 'code', 'choice', 'africa', 'ted prize', 'activism', 'africa', 'ted brain trust', 'dna', 'brain', 'business', 'dna', 'ted brain trust', 'alternative energy', 'architecture', 'art', 'entertainment', 'business', 'brazil', 'biotech', 'dna', 'dna', 'art', 'animals', 'animals', 'biology', 'cello', 'ted brain trust', 'creativity', 'architecture', 'ted brain trust', 'entertainment', 'composing', 'composing', 'god', 'god', 'comedy', 'business', 'google', 'alternative energy', 'collaboration', 'ai', 'animals', 'collaboration', 'climate change', 'business', 'demo', 'buddhism', 'new york', 'culture', 'design', 'africa', 'moon', 'ted brain trust', 'bioethics', 'design', 'aids', 'demo', 'entertainment', 'animation', 'culture', 'africa', 'africa', 'africa', 'africa', 'africa', 'africa', 'business', 'africa', 'business', 'culture', 'books', 'africa', 'animals', 'ted brain trust', 'ted brain trust', 'entertainment', 'africa', 'art', 'asteroid', 'alternative energy', 'nasa', 'aircraft', 'ai', 'art', 'cities', 'brain', 'business', 'brain', 'buddhism', 'business', 'dna', 'business', 'ted brain trust', 'climate change', 'design', 'africa', 'design', 'string theory', 'macarthur grant', 'education', 'brain', 'communication', 'children', 'south america', 'comedy', 'ants', 'entertainment', 'animals', 'art', 'architecture', 'culture', 'macarthur grant', 'culture', 'entertainment', 'art', 'business', 'business', 'brazil', 'macarthur grant', 'animals', 'business', 'live music', 'nasa', 'architecture', 'collaboration', 'collaboration', 'africa', 'ted brain trust', 'astronomy', 'children', 'alternative energy', 'demo', 'biology', 'architecture', 'ted prize', 'ted prize', 'africa', 'architecture', 'biology', 'culture', 'art', 'education', 'string theory', 'activism', 'business', 'creativity', 'google', 'africa', 'culture', 'string theory', 'string theory', 'entertainment', 'africa', 'biology', 'bacteria', 'macarthur grant', 'animals', 'google', 'environment', 'adventure', 'business', 'art', 'activism', 'africa', 'brain', 'ted brain trust', 'anthropology', 'culture', 'computers', 'art', 'aging', 'animals', 'vaccines', 'business', 'conducting', 'activism', 'business', 'art', 'entertainment', 'africa', 'animals', 'culture', 'business', 'entertainment', 'planets', 'brain', 'christianity', 'comedy', 'brain', 'brain', 'africa', 'africa', 'africa', 'art', 'architecture', 'communication', 'brain', 'art', 'astronomy', 'africa', 'animals', 'entertainment', 'animals', 'animals', 'entertainment', 'children', 'africa', 'animals', 'dna', 'business', 'business', 'education', 'africa', 'global issues', 'books', 'animals', 'children', 'animals', 'children', 'brain', 'activism', 'business', 'brain', 'children', 'communication', 'children', 'ted brain trust', 'ai', 'art', 'culture', 'architecture', 'ted prize', 'business', 'entertainment', 'cities', 'physics', 'art', 'beauty', 'health', 'comedy', 'demo', 'culture', 'aids', 'culture', 'design', 'business', 'africa', 'charter for compassion', 'charter for compassion', 'charter for compassion', 'charter for compassion', 'charter for compassion', 'charter for compassion', 'business', 'culture', 'activism', 'art', 'senses', 'string theory', 'communication', 'mars', 'art', 'ted brain trust', 'business', 'africa', 'astronomy', 'business', 'entertainment', 'business', '\"alzheimers\"', 'complexity', 'cities', 'alternative energy', 'animation', 'culture', 'art', 'animals', 'books', 'ted brain trust', 'books', 'mars', 'biology', 'children', 'asia', 'dna', 'code', 'africa', 'design', 'design', 'beauty', 'art', 'art', 'business', 'art', 'design', 'culture', 'biology', 'philanthropy', 'business', 'dinosaurs', 'beauty', 'global issues', 'collaboration', 'energy', 'ted brain trust', 'creativity', 'art', 'art', 'business', 'biology', 'conducting', 'ted prize', 'ted prize', 'aging', 'business', 'biodiversity', 'art', 'business', 'children', 'animals', 'activism', 'economics', 'creativity', 'demo', 'activism', 'brain', 'business', 'animals', 'brain', 'animals', 'art', 'architecture', 'alternative energy', 'activism', 'culture', 'culture', 'aids', 'culture', 'business', 'adventure', 'creativity', 'design', 'architecture', 'global issues', 'macarthur grant', 'cognitive science', 'communication', 'alternative energy', 'biology', 'art', 'dance', 'adventure', 'art', 'business', 'africa', 'cities', 'new york', 'business', 'brain', 'culture', 'vaccines', 'astronomy', 'ted fellows', 'art', 'ted prize', 'natural resources', 'activism', 'books', 'aids', 'asia', 'new york', 'business', 'culture', 'books', 'planets', 'cars', 'children', 'united states', 'culture', 'biodiversity', 'activism', 'ted brain trust', 'art', 'books', 'community', 'architecture', 'architecture', 'beauty', 'animals', 'business', 'tedx', 'communication', 'god', 'design', 'brain', 'global issues', 'activism', 'global issues', 'economics', 'children', 'architecture', 'children', 'brain', 'asia', 'biology', 'anthropocene', 'art', 'biology', 'brain', 'anthropology', 'europe', 'culture', 'art', 'apes', 'art', 'business', 'business', 'biodiversity', 'entertainment', 'brain', 'engineering', 'africa', 'animation', 'anthropocene', 'global development', 'culture', 'design', 'entertainment', 'climate change', 'adventure', 'brain', 'adventure', 'architecture', 'comedy', 'biology', 'internet', 'internet', 'africa', 'adventure', 'africa', 'asia', 'art', 'god', 'astronomy', 'ted brain trust', 'ancient world', 'tedx', 'africa', 'art', 'architecture', 'cities', 'body language', 'advertising', 'brain', 'birds', 'tedx', 'tedx', 'business', 'vaccines', 'economics', 'ancient world', 'architecture', 'depression', 'architecture', 'anthropology', 'business', 'chemistry', 'ted prize', 'culture', 'demo', 'biomimicry', 'environment', 'business', 'astronomy', 'asia', 'big problems', 'africa', 'culture', 'business', 'europe', 'astronomy', 'architecture', 'art', 'asia', 'comedy', 'art', 'design', 'egypt', 'corruption', 'asia', 'internet', 'biodiversity', 'art', 'asia', 'alternative energy', 'ted fellows', 'adventure', 'biology', 'art', 'tedx', 'animals', 'activism', 'children', 'cities', 'astronomy', 'biology', 'asia', 'biology', 'cities', 'tedx', 'culture', 'ted fellows', 'business', 'big problems', 'collaboration', 'tedx', 'cancer', 'art', 'tedx', 'business', 'cities', 'business', 'activism', 'ted brain trust', 'tedx', 'business', 'tedmed', 'autism spectrum disorder', 'biology', 'art', 'brain', 'business', 'data', 'adventure', 'collaboration', 'business', 'internet', 'cities', 'agriculture', 'entertainment', 'biology', 'business', 'computers', 'adventure', 'creativity', 'culture', 'brazil', 'business', 'mars', 'ted fellows', 'slavery', 'children', 'future', 'business', 'children', 'aids', 'design', 'ai', 'bees', 'literature', 'global issues', 'global issues', 'business', 'art', 'animals', 'culture', 'ted fellows', 'business', 'business', 'culture', 'string theory', 'adventure', 'chemistry', 'comedy', 'big problems', 'tedx', 'fish', 'creativity', 'entertainment', 'evolution', 'ted brain trust', 'economics', 'tedx', 'children', 'cancer', 'culture', 'animals', 'alternative energy', 'dna', 'ted brain trust', 'tedx', 'ted fellows', 'aids', 'internet', 'computers', 'fish', 'internet', 'curiosity', 'tedx', 'democracy', 'africa', 'creativity', 'anthropocene', 'architecture', 'god', 'art', 'animals', 'tedx', 'cancer', 'buddhism', 'art', 'cities', 'children', 'children', 'collaboration', 'tedx', 'fish', 'art', 'ted fellows', 'math', 'tedx', 'crime', 'culture', 'tedx', 'business', 'communication', 'culture', 'surveillance', 'islam', 'planets', 'brain', 'biology', 'business', 'tedx', 'mission blue', 'brain', 'activism', 'business', 'slavery', 'ai', 'comedy', 'iran', 'tedx', 'complexity', 'climate change', 'animals', 'tedx', 'business', 'big problems', 'anthropocene', 'brain', 'goal-setting', 'biodiversity', 'children', 'art', 'global issues', 'tedx', 'mission blue', 'business', 'evolution', 'friendship', 'culture', 'books', 'collaboration', 'aids', 'aids', 'tedx', 'senses', 'decision-making', 'brain', 'ptsd', 'tedx', 'anthropocene', 'economics', 'mission blue', 'africa', 'cancer', 'biology', 'tedx', 'ted fellows', 'art', 'internet', 'business', 'biology', 'anthropocene', 'art', 'business', 'china', 'environment', 'tedx', 'culture', 'culture', 'global issues', 'biology', 'entertainment', 'design', 'africa', 'tedx', 'big problems', 'ted fellows', 'code', 'senses', 'tedx', 'culture', 'global issues', 'tedx', 'drones', 'tedx', 'tedx', 'tedx', 'tedx', 'agriculture', 'africa', 'business', 'business', 'gender equality', 'crime', 'gender equality', 'tedx', 'children', 'tedx', 'africa', 'gender equality', 'tedx', 'tedx', 'culture', 'business', 'tedx', 'tedx', 'business', 'tedx', 'activism', 'anthropology', 'anthropocene', 'communication', 'tedx', 'activism', 'health care', 'anthropocene', 'tedx', 'ai', 'asia', 'business', 'art', 'tedx', 'cancer', 'architecture', 'cities', 'advertising', 'tedx', 'culture', 'tedx', 'ai', 'community', 'architecture', 'tedx', 'charter for compassion', 'tedx', 'culture', 'business', 'foreign policy', 'business', 'surgery', 'anthropology', 'ted brain trust', 'egypt', 'ted prize', 'egypt', 'aging', 'surgery', 'culture', 'culture', 'brain', 'tedx', 'brain', 'dark matter', 'community', 'tedx', 'entertainment', 'culture', 'ted fellows', 'bioethics', 'design', 'tedx', 'tedx', 'iran', 'animals', 'business', 'collaboration', 'education', 'culture', 'business', 'brand', 'creativity', 'activism', 'ted prize', 'internet', 'tedx', 'community', 'ted fellows', 'business', 'tedx', 'culture', 'design', 'exploration', 'business', 'bioethics', 'tedx', 'dna', 'demo', 'design', 'culture', 'culture', 'cities', 'ted fellows', 'string theory', 'beauty', 'animals', 'biology', 'body language', 'art', 'tedx', 'brain', 'architecture', 'senses', 'biology', 'culture', 'art', 'vaccines', 'art', 'egypt', 'blindness', 'ted brain trust', 'philosophy', 'consumerism', 'tedx', 'dinosaurs', 'art', 'business', 'gender spectrum', 'communication', 'tedx', 'art', 'europe', 'ted fellows', 'design', 'cars', 'brain', 'culture', 'art', 'brain', 'ted en español', 'computers', 'tedx', 'activism', 'culture', 'ted brain trust', 'bees', 'consciousness', 'ted fellows', 'surveillance', 'culture', 'business', 'communication', 'internet', 'culture', 'complexity', 'animals', 'foreign policy', 'biology', 'happiness', 'culture', 'culture', 'consciousness', 'internet', 'biology', 'ted fellows', 'culture', 'human body', 'architecture', 'tedx', 'activism', 'ted fellows', 'art', 'cognitive science', 'dna', 'communication', 'ted fellows', 'buddhism', 'culture', 'tedx', 'biology', 'books', 'asia', 'internet', 'art', 'bioethics', 'culture', 'business', 'google', 'africa', 'animals', 'business', 'communication', 'creativity', 'africa', 'data', 'asia', 'tedx', 'consumerism', 'business', 'collaboration', 'brain', 'senses', 'business', 'culture', 'ted fellows', 'culture', 'energy', 'tedx', 'senses', 'ted fellows', 'culture', 'drones', 'dna', 'art', 'surveillance', 'behavioral economics', 'cars', 'ai', 'tedx', 'ai', 'ted fellows', 'archaeology', 'dna', 'tedx', 'human body', 'adventure', 'tedx', 'dna', 'comedy', 'nasa', 'creativity', 'creativity', 'tedx', 'tedx', 'crime', 'brain', 'tedx', 'senses', 'culture', 'tedx', 'egypt', 'internet', 'macarthur grant', 'biotech', 'culture', 'ted fellows', 'nobel prize', 'business', 'agriculture', 'tedx', 'tedx', 'senses', 'senses', 'behavioral economics', 'global issues', 'tedx', 'comedy', 'tedx', 'europe', 'tedx', 'tedx', 'tedx', 'tedx', 'dna', 'tedx', 'ted fellows', 'atheism', 'internet', 'business', 'business', 'natural resources', 'tedyouth', '3d printing', 'culture', 'tedx', 'tedx', 'tedx', 'guns', 'cancer', 'tedx', 'surgery', 'dna', 'activism', 'algorithm', 'tedx', 'islam', 'tedx', 'creativity', 'tedx', 'activism', 'tedx', 'tedx', 'tedx', 'tedx', 'tedx', 'archaeology', 'tedx', 'art', 'behavioral economics', 'tedx', 'internet', 'tedyouth', 'biology', 'animals', 'cities', 'activism', 'ai', 'business', 'criminal justice', 'animation', 'big problems', 'activism', 'tedx', 'culture', 'business', 'brain', 'alternative energy', 'tedx', 'alternative energy', 'culture', 'culture', 'business', 'brain', 'tedx', 'alternative energy', 'internet', 'global issues', 'ted fellows', 'art', 'internet', 'ai', 'creativity', 'health care', 'human body', 'tedx', 'community', 'tedx', 'tedx', 'surgery', 'asia', 'health care', 'business', 'art', 'tedx', 'ted fellows', 'planets', 'tedx', 'brazil', 'activism', 'tedx', 'tedx', 'architecture', 'natural resources', 'art', 'internet', 'tedx', 'tedx', 'culture', 'data', 'adventure', 'brain', 'marketing', 'tedx', 'behavioral economics', 'ted fellows', 'creativity', 'ted fellows', 'ted prize', 'tedx', 'dna', 'tedx', 'entertainment', 'aids', 'comedy', 'tedx', 'ai', 'internet', 'egypt', 'tedx', 'nasa', 'tedx', 'autism spectrum disorder', 'human body', 'culture', 'natural resources', 'architecture', 'autism spectrum disorder', 'design', 'global issues', 'art', 'africa', 'gender equality', 'tedx', 'tedx', 'tedx', 'bioethics', 'internet', 'internet', 'tedx', 'moon', 'tedx', 'ted prize', 'internet', 'code', 'business', 'brain', 'alternative energy', '\"alzheimers\"', 'tedx', 'ted fellows', 'ted fellows', 'aging', 'dna', 'tedx', 'internet', 'creativity', 'tedx', 'ted fellows', 'dna', 'global development', 'tedx', 'art', 'senses', 'tedx', 'tedx', 'collaboration', 'europe', 'art', 'innovation', 'algorithm', 'natural resources', 'asia', 'tedx', 'internet', 'asia', 'tedx', 'tedx', 'business', 'ted fellows', 'agriculture', 'art', 'slavery', 'tedx', 'europe', 'tedx', 'culture', 'tedx', 'art', 'business', 'ai', 'art', 'nasa', 'tedx', 'tedx', 'depression', 'asia', 'bioethics', 'art', 'data', 'environment', 'aging', 'senses', 'internet', 'africa', 'new york', 'business', 'ai', 'behavioral economics', 'internet', 'activism', 'egypt', 'tedx', 'cities', 'body language', 'ted fellows', 'crime', 'code', 'art', 'business', 'internet', 'activism', 'collaboration', 'art', 'business', 'health', 'bees', 'corruption', 'internet', 'business', 'tedx', 'tedx', 'tedx', 'illusion', 'tedx', 'data', 'dna', 'tedx', 'autism spectrum disorder', 'tedx', 'ptsd', 'tedx', 'activism', 'tedx', 'art', 'global issues', 'communication', 'tedyouth', 'community', 'tedx', 'tedx', 'tedx', 'ted fellows', 'tedx', 'cars', 'human body', 'africa', 'egypt', 'africa', 'business', 'ted fellows', 'tedyouth', 'aids', 'internet', 'middle east', 'tedx', 'culture', 'business', 'bioethics', 'children', 'economics', 'iran', 'creativity', 'dna', 'animation', 'global issues', 'tedx', 'tedx', 'aids', 'buddhism', 'tedx', 'bioethics', 'tedx', 'tedx', 'tedx', 'ptsd', 'tedx', 'surgery', 'culture', 'business', 'internet', 'gender equality', 'middle east', 'compassion', 'dna', 'art', '3d printing', 'europe', 'tedx', 'tedx', 'tedx', 'culture', 'tedx', 'bioethics', 'behavioral economics', 'tedx', 'data', 'tedx', 'children', 'ted prize', 'energy', 'ted brain trust', 'agriculture', 'oceans', 'agriculture', 'africa', 'bullying', 'business', 'tedx', 'ted brain trust', 'activism', 'ted fellows', 'internet', 'energy', 'asia', 'dna', 'collaboration', 'ted fellows', 'demo', 'agriculture', 'tedx', 'biology', 'technology', 'corruption', 'ted fellows', 'ai', 'community', 'robots', 'tedx', 'health care', 'activism', 'big problems', '\"alzheimers\"', 'anthropology', 'tedx', 'dance', 'culture', 'economics', 'business', 'cars', 'culture', 'business', 'alternative energy', 'brazil', 'ted brain trust', 'children', 'tedx', 'china', 'ted brain trust', 'chemistry', 'children', 'education', 'business', 'business', 'culture', 'aging', 'culture', 'art', 'creativity', 'ted brain trust', 'global issues', 'art', 'aging', 'architecture', 'creativity', 'art', 'gender equality', 'tedx', 'creativity', 'children', 'behavioral economics', 'africa', 'animals', 'creativity', 'economics', 'drones', 'europe', 'drones', 'islam', 'business', 'africa', 'family', 'tedx', 'ted fellows', 'islam', 'health', 'art', 'bioethics', 'robots', 'asia', 'tedx', 'ted fellows', 'business', 'architecture', 'internet', 'internet', 'culture', 'animals', 'beauty', 'culture', 'bacteria', 'tedx', 'senses', 'design', 'children', 'advertising', 'culture', 'design', 'tedmed', 'creativity', 'tedx', 'creativity', 'tedx', 'senses', 'africa', 'health', 'autism spectrum disorder', 'tedx', 'tedx', 'biology', 'tedx', 'culture', 'humor', 'body language', 'business', 'art', 'activism', 'collaboration', 'blindness', 'big problems', 'crime', 'crime', 'agriculture', 'ted fellows', 'bioethics', 'cities', 'bioethics', 'curiosity', 'tedx', 'culture', 'tedx', 'ancient world', 'death', 'algorithm', 'art', 'nasa', 'debate', 'debate', 'architecture', 'foreign policy', 'disease', 'culture', 'cities', 'culture', 'cities', 'business', 'art', 'business', 'africa', 'books', 'string theory', 'africa', 'business', 'anthropocene', 'communication', 'adventure', 'asia', 'business', 'anthropology', 'animals', 'internet', 'entertainment', 'africa', 'blindness', 'africa', 'health', 'entertainment', 'animals', 'africa', 'tedx', 'drones', 'brain', 'aging', 'brazil', 'culture', 'business', 'tedx', 'entertainment', 'ted fellows', 'south america', 'africa', 'africa', 'tedyouth', 'tedx', 'consumerism', 'business', 'economics', 'tedx', 'design', 'tedx', 'aging', 'cities', 'comedy', 'tedx', 'business', 'health', 'tedx', 'ted fellows', 'business', 'bioethics', 'gender equality', 'tedx', 'ai', 'egypt', 'depression', 'business', 'communication', 'internet', 'crime', 'tedyouth', 'tedx', 'animation', 'gender', 'map', 'architecture', 'ai', 'ted fellows', 'tedx', 'design', 'business', 'biomimicry', 'tedx', 'biology', 'business', 'culture', 'gender equality', 'aging', 'cities', 'economics', 'tedyouth', 'business', 'surgery', 'business', 'internet', 'dna', 'ted fellows', 'disability', 'gender equality', 'africa', 'animals', 'brain', 'behavioral economics', 'internet', 'adventure', 'ted prize', 'surveillance', 'ai', 'education', 'ancient world', 'animals', 'security', 'dance', 'gender equality', 'dance', 'astronomy', 'activism', 'tedx', 'corruption', 'architecture', 'education', 'bacteria', 'senses', 'guns', 'introvert', 'culture', 'lgbt', 'planets', 'design', 'art', 'alternative energy', 'tedx', 'senses', 'creativity', 'autism spectrum disorder', 'dna', 'blindness', 'algorithm', 'future', 'business', 'entertainment', 'surveillance', 'google', 'live music', 'tedx', 'internet', 'culture', 'tedx', 'entertainment', 'business', 'tedx', 'gender equality', 'sports', 'ptsd', 'ptsd', 'environment', 'ted fellows', '\"alzheimers\"', 'creativity', 'ai', 'ted brain trust', 'culture', 'animals', 'gender equality', 'tedx', 'internet', 'ted fellows', 'creativity', 'comedy', 'atheism', 'tedx', 'choice', 'culture', 'animals', 'crime', 'tedx', 'astronomy', 'tedx', 'culture', 'tedx', 'biology', 'foreign policy', 'behavioral economics', 'tedx', 'business', 'computers', 'choice', 'history', 'entertainment', 'brain', 'surgery', 'ted fellows', '3d printing', 'comedy', 'business', 'business', 'europe', 'ted fellows', 'tedx', 'human body', 'business', 'tedx', 'democracy', 'poetry', 'internet', 'ted fellows', 'books', 'ted fellows', 'ted fellows', 'future', 'africa', 'tedx', 'communication', 'comedy', 'philosophy', 'aging', 'ted fellows', 'tedx', 'middle east', 'new york', 'global issues', 'ted fellows', 'health', 'astronomy', 'books', 'manufacturing', 'tedx', 'anthropocene', 'data', 'middle east', 'death', 'architecture', 'ted fellows', 'tedx', 'global issues', 'brain', 'live music', 'economics', 'beauty', 'government', 'business', 'internet', 'brain', 'children', 'biotech', 'syria', 'ted fellows', 'data', 'africa', 'ted fellows', 'adventure', 'humor', 'crime', 'ted fellows', 'animals', 'cancer', 'activism', 'cities', 'biodiversity', 'business', 'architecture', 'art', 'economics', 'economics', 'crime', 'business', 'creativity', 'business', 'astronomy', 'tedx', 'ted fellows', 'autism spectrum disorder', 'medicine', 'tedx', 'ted books', 'activism', 'adventure', 'business', 'animals', 'advertising', 'ted fellows', 'tedx', 'surveillance', 'cities', 'tedx', 'ai', 'tedx', 'activism', 'brazil', 'tedyouth', 'tedx', 'ted fellows', 'cities', 'middle east', 'tedyouth', 'climate change', 'business', 'climate change', 'cities', 'ted en español', 'communication', 'tedyouth', 'global development', 'gender equality', 'brain', 'government', 'africa', 'ted fellows', 'activism', 'tedx', 'tedyouth', 'business', 'tedyouth', 'tedyouth', 'business', 'tedyouth', 'ted books', 'tedx', 'brain', 'islam', 'nasa', 'tedx', 'ted books', 'middle east', 'ted en español', 'new york', 'entertainment', 'ted fellows', 'climate change', 'humor', 'internet', 'brazil', 'africa', 'ted books', 'tedx', 'tedx', 'business', 'tedx', 'tedx', 'blindness', 'demo', 'communication', 'ai', 'crime', 'ted prize', 'architecture', 'entrepreneur', 'ted fellows', 'blindness', 'asia', 'ted fellows', 'ted brain trust', 'ted fellows', 'ted en español', 'behavioral economics', 'nasa', 'global issues', 'activism', 'tedx', 'investment', 'mars', 'inequality', 'nasa', 'entertainment', 'inequality', 'ted fellows', 'ai', 'ted fellows', 'animals', 'criminal justice', 'agriculture', 'computers', 'ted fellows', 'adventure', 'bees', 'architecture', 'cities', 'live music', 'gender spectrum', 'ted fellows', 'animals', 'culture', 'creativity', 'crime', 'tedx', 'planets', 'culture', 'business', 'behavioral economics', 'design', 'surveillance', 'education', 'politics', 'culture', 'animals', 'gender spectrum', 'compassion', 'ted books', 'autism spectrum disorder', 'ted fellows', 'gender equality', 'ted books', 'disease', 'cars', 'economics', 'global issues', 'empathy', 'peace', 'math', 'children', 'addiction', 'tedx', 'slavery', 'culture', 'culture', 'internet', 'animals', 'culture', 'gender', 'tedx', 'ted fellows', 'evolution', 'middle east', 'united states', 'ted fellows', 'aids', 'autism spectrum disorder', 'art', 'bioethics', 'surveillance', 'art', 'biology', 'vaccines', 'disaster relief', 'leadership', 'planets', 'gender equality', 'internet', 'human origins', 'google', 'ted books', 'death', 'gender equality', 'foreign policy', 'activism', 'gender equality', 'tedx', 'tedx', 'middle east', 'death', 'climate change', 'aging', '\"alzheimers\"', 'culture', 'tedx', 'tedx', 'tedx', 'big problems', 'ted books', 'architecture', 'aging', 'guitar', 'big problems', 'tedx', 'tedx', 'europe', 'ted fellows', 'criminal justice', 'bioethics', 'tedx', 'south america', 'big problems', 'ted fellows', 'ted fellows', 'europe', 'brain', 'activism', 'middle east', 'brazil', 'internet', 'gender equality', 'google', 'god', 'ptsd', 'brand', 'future', 'big problems', 'animals', 'europe', 'books', 'business', 'art', 'ted fellows', 'tedx', 'ai', 'tedx', 'ted fellows', 'tedyouth', 'tedyouth', 'tedyouth', 'animals', 'mars', 'ted fellows', 'gender equality', 'europe', 'internet', 'art', 'tedx', 'big bang', 'tedx', 'planets', 'tedx', 'comedy', 'cognitive science', 'tedx', 'egypt', 'architecture', 'tedyouth', 'africa', 'ai', 'africa', 'christianity', 'europe', 'adventure', 'debate', 'animals', 'activism', 'internet', 'bioethics', 'addiction', 'africa', 'tedx', 'united states', 'tedx', 'tedx', 'big problems', 'slavery', 'surgery', 'tedx', 'children', 'astronomy', 'beauty', 'alternative energy', 'islam', 'business', 'aids', 'gender spectrum', 'adventure', 'tedyouth', 'internet', 'europe', 'brand', 'children', 'vaccines', 'tedx', 'tedx', 'buddhism', 'god', 'behavioral economics', 'internet', 'ted fellows', 'debate', 'senses', 'criminal justice', 'tedx', 'ancient world', 'africa', 'nasa', 'brazil', 'debate', 'planets', 'business', 'business', 'internet', 'internet', 'art', 'nasa', 'activism', 'internet', 'activism', 'mars', 'big problems', 'big problems', 'communication', 'alternative energy', 'brain', 'aging', 'dna', 'activism', 'ted books', 'ted fellows', 'internet', 'choice', 'big problems', 'dna', 'tedmed', 'communication', 'activism', 'adventure', 'tedx', 'bioethics', 'brain', 'africa', 'big problems', 'body language', 'ted fellows', 'ptsd', 'tedx', 'internet', 'ted books', 'brain', 'adventure', 'activism', 'collaboration', 'africa', 'africa', 'activism', 'africa', 'collaboration', 'google', 'china', 'tedx', 'ted fellows', 'africa', 'big problems', 'ted fellows', 'art', 'internet', 'tedx', 'ted fellows', 'children', 'ted books', 'architecture', 'blindness', 'ai', 'tedx', 'blindness', 'criminal justice', 'middle east', 'europe', 'internet', 'senses', 'middle east', 'aging', 'anthropocene', 'natural resources', 'adventure', 'agriculture', 'egypt', 'internet', 'biology', 'beauty', 'ai', 'biology', 'natural resources', 'africa', 'mars', 'natural resources', 'mars', 'south america', 'collaboration', 'blindness', 'business', 'tedx', 'ted fellows', 'internet', 'human body', 'global issues', 'tedx', 'ted books', 'big problems', 'business', 'children', 'united states', 'tedx', 'south america', 'internet', 'children', 'natural resources', 'africa', 'brain', 'tednyc', 'tedx', 'new york', 'dna', 'internet', 'tednyc', 'africa', 'dna', 'ai', 'internet', 'crispr', 'tednyc', 'tedx', 'blindness', 'adventure', 'communication', 'internet', 'adventure', 'ptsd', 'business', 'tedx', 'behavioral economics', 'tedmed', 'ai', 'islam', 'tednyc', 'biology', 'africa', 'tedx', 'tedx', 'tedx', 'internet', 'slavery', 'big problems', 'beauty', 'gender equality', 'islam', 'tednyc', 'ted residency', 'ptsd', 'activism', 'internet', 'adventure', 'children', 'tedx', 'gender equality', 'dna', 'tedx', 'alternative energy', 'africa', 'tedx', 'tednyc', 'business', 'gender equality', 'tedx', 'tedx', 'aging', 'bioethics', 'tedx', 'ai', 'ptsd', 'children', 'choice', 'tedx', 'gender equality', 'mars', 'communication', 'nobel prize', 'anthropology', 'collaboration', 'children', 'tedx', 'tedx', 'chemistry', 'tedx', 'tedx', 'africa', 'gender equality', 'gender equality', 'anthropocene', 'debate', 'aids', 'macarthur grant', 'computers', 'europe', 'bacteria', 'egypt', 'tedx', 'tedx', 'guns', 'mars', 'ai', 'activism', 'biology', 'tedx', 'middle east', 'activism', 'media', 'internet', 'criminal justice', 'ai', 'big problems', 'criminal justice', 'tedx', 'africa', 'activism', 'tedx', 'ted residency', 'tednyc', 'children', 'guitar', 'curiosity', 'tednyc', 'gender equality', 'gender equality', 'ai', 'tedx', 'tedmed', 'nasa', 'gender equality', 'ted en español', 'tedx', 'surgery', 'children', 'tedx', 'foreign policy', 'tednyc', 'ted-ed', 'gender equality', 'addiction', 'dna', 'africa', 'gender equality', 'united states', 'tedx', 'internet', 'tedmed', 'tednyc', 'tedx', 'tedx', 'tednyc', 'ted residency', 'africa', 'tednyc', 'astronomy', 'tednyc', 'addiction', 'criminal justice', 'africa', 'tedx', 'christianity', 'gender equality', '\"alzheimers\"', 'mars', 'tedx', 'internet', 'africa', 'ted fellows', 'tedmed', 'biology', 'south america', 'anthropocene', 'aging', 'ai', 'tedmed', 'big problems', 'tedx', 'activism', 'capitalism', 'africa', 'united states', 'tedx', 'collaboration', 'tedx', 'ai', 'criminal justice', 'africa', 'history', 'tednyc', 'internet', 'tednyc', 'autism spectrum disorder', 'ai', 'christianity', 'choice', 'adventure', 'tedx', 'bioethics', 'africa', 'ai', 'ted books', 'tednyc', 'tedx', 'children', 'ted fellows', 'community', 'ted en español', 'tedx', 'addiction', 'anthropocene', 'brain', 'tedx', 'united states', 'blindness', 'architecture', 'dna', 'algorithm', 'human body', 'ted fellows', 'demo', 'art', 'south america', 'tednyc', 'ai', 'ai', 'tedmed', 'aging', 'moon', 'art', 'bacteria', 'ted fellows', 'brain', 'criminal justice', 'art', 'architecture', 'tedx', 'aging', 'ted-ed', 'algorithm', 'ai', 'art', 'ai', 'biology', 'africa', 'tedx', 'africa', 'tedx', 'ai', 'tedx', 'tedx', 'tedx', 'architecture', 'tedx', 'algorithm', 'ted en español', 'tedx', 'africa', 'tedx', 'happiness', 'tedx', 'africa', 'business', 'tedx', 'africa', 'dna', 'africa', 'ted residency', 'mars', 'ai', 'internet', 'cities']\n",
            "193\n",
            "{'communication', 'culture', 'education', 'algorithm', 'behavioral economics', 'global development', 'cognitive science', 'string theory', 'animals', 'illusion', 'disability', 'advertising', 'empathy', 'compassion', 'decision-making', 'history', 'senses', 'consumerism', 'code', 'physics', 'fish', 'surgery', 'investment', 'aircraft', 'health care', 'ptsd', 'democracy', 'tedmed', 'manufacturing', 'marketing', 'south america', 'addiction', 'death', 'climate change', 'brain', 'biology', '\"alzheimers\"', 'islam', 'mars', 'europe', 'energy', 'sports', 'bacteria', 'goal-setting', 'philosophy', 'oceans', 'demo', 'aids', 'entrepreneur', 'guitar', 'atheism', 'ted brain trust', 'comedy', 'tedx', 'africa', 'anthropocene', 'curiosity', 'bioethics', 'christianity', 'business', 'autism spectrum disorder', 'media', 'depression', 'children', 'guns', 'nasa', 'evolution', 'community', 'ai', 'brazil', 'ted-ed', 'collaboration', 'blindness', 'middle east', 'cello', 'dance', 'human body', 'ted en español', 'dark matter', 'tedyouth', 'creativity', 'god', 'biotech', 'ted residency', 'syria', 'disaster relief', 'live music', 'surveillance', 'ants', 'archaeology', 'computers', 'conducting', 'drones', 'mission blue', 'lgbt', 'capitalism', 'adventure', 'cities', 'art', 'bullying', 'moon', 'cancer', 'asteroid', 'ted books', 'introvert', 'environment', 'charter for compassion', 'robots', 'biodiversity', 'map', 'crispr', 'human origins', 'dinosaurs', 'books', 'medicine', 'google', 'math', 'internet', 'security', 'economics', 'natural resources', 'big bang', 'alternative energy', 'global issues', 'activism', 'united states', 'vaccines', 'birds', 'egypt', 'exploration', 'innovation', 'future', 'family', 'brand', 'gender', 'composing', 'dna', 'anthropology', 'gender equality', 'complexity', 'literature', 'astronomy', 'peace', 'agriculture', 'criminal justice', 'biomimicry', 'gender spectrum', 'chemistry', 'politics', 'ted fellows', 'asia', 'corruption', 'bees', 'animation', 'tednyc', 'friendship', 'engineering', 'planets', 'ted prize', 'happiness', '3d printing', 'foreign policy', 'new york', 'ancient world', 'nobel prize', 'entertainment', 'body language', 'debate', 'disease', 'crime', 'architecture', 'beauty', 'china', 'consciousness', 'leadership', 'technology', 'data', 'philanthropy', 'iran', 'humor', 'poetry', 'slavery', 'aging', 'choice', 'government', 'inequality', 'macarthur grant', 'design', 'cars', 'apes', 'big problems', 'health', 'buddhism'}\n"
          ],
          "name": "stdout"
        }
      ]
    },
    {
      "metadata": {
        "id": "a-TOr8bbpgE9",
        "colab_type": "code",
        "colab": {}
      },
      "cell_type": "code",
      "source": [
        "print(Y[0])"
      ],
      "execution_count": 0,
      "outputs": []
    },
    {
      "metadata": {
        "id": "MFokQRVXqfw4",
        "colab_type": "code",
        "colab": {
          "base_uri": "https://localhost:8080/",
          "height": 51
        },
        "outputId": "e82f6107-6802-44fa-9464-b185e3603304"
      },
      "cell_type": "code",
      "source": [
        "from numpy import array\n",
        "from numpy import argmax\n",
        "from sklearn.preprocessing import LabelEncoder\n",
        "from sklearn.preprocessing import OneHotEncoder\n",
        "\n",
        "# define example\n",
        "#data = ['cold', 'cold', 'warm', 'cold', 'hot', 'hot', 'warm', 'cold', 'warm', 'hot']\n",
        "data = Y\n",
        "\n",
        "values = array(data)\n",
        "print(values)\n",
        "# integer encode\n",
        "label_encoder = LabelEncoder()\n",
        "integer_encoded = label_encoder.fit_transform(values)\n",
        "\n",
        "Y = integer_encoded\n",
        "print(Y)"
      ],
      "execution_count": 130,
      "outputs": [
        {
          "output_type": "stream",
          "text": [
            "['children' 'alternative energy' 'computers' ... 'ai' 'internet' 'cities']\n",
            "[ 56  13  71 ...   9 136  60]\n"
          ],
          "name": "stdout"
        }
      ]
    },
    {
      "metadata": {
        "id": "_iSThaNDBM_Y",
        "colab_type": "code",
        "colab": {}
      },
      "cell_type": "code",
      "source": [
        "#Aplicação de técnicas de classificação\n",
        "\n",
        "#Aplicando Regressão Logística\n",
        "#Y=['A','A','B']\n",
        "X=matrizDeVetores\n",
        "\n",
        "from sklearn import linear_model\n",
        "logreg = linear_model.LogisticRegression(C=1.0)\n",
        "logreg.fit(X, Y)\n",
        "print(\"Training set score: %f\" % logreg.score(X, Y))\n",
        "\n",
        "#Aplicando Redes Neurais\n",
        "#from sklearn.neural_network import MLPClassifier\n",
        "#mlp = MLPClassifier(hidden_layer_sizes=(50,), max_iter=10, alpha=1e-4,\n",
        "#                    solver='sgd', verbose=10, tol=1e-4, random_state=1,\n",
        "#                    learning_rate_init=.1)\n",
        "#mlp.fit(X, Y)\n",
        "#print(\"Training set score: %f\" % mlp.score(X, Y))"
      ],
      "execution_count": 0,
      "outputs": []
    },
    {
      "metadata": {
        "id": "4ItocDtvBHCI",
        "colab_type": "code",
        "colab": {}
      },
      "cell_type": "code",
      "source": [
        "#Sugestão: comparar com bag of words"
      ],
      "execution_count": 0,
      "outputs": []
    },
    {
      "metadata": {
        "id": "1WQFCycnBHMY",
        "colab_type": "code",
        "colab": {}
      },
      "cell_type": "code",
      "source": [
        ">>> from sklearn.datasets import load_iris\n",
        ">>> from sklearn import tree\n",
        ">>> iris = load_iris()\n",
        ">>> clf = tree.DecisionTreeClassifier()\n",
        ">>> clf = clf.fit(iris.data, iris.target)"
      ],
      "execution_count": 0,
      "outputs": []
    },
    {
      "metadata": {
        "id": "1xXY3oSEBHPa",
        "colab_type": "code",
        "colab": {}
      },
      "cell_type": "code",
      "source": [
        ""
      ],
      "execution_count": 0,
      "outputs": []
    },
    {
      "metadata": {
        "id": "T9_iXJFIBHWd",
        "colab_type": "code",
        "colab": {}
      },
      "cell_type": "code",
      "source": [
        ""
      ],
      "execution_count": 0,
      "outputs": []
    },
    {
      "metadata": {
        "id": "_NbVQNAiBHeN",
        "colab_type": "code",
        "colab": {}
      },
      "cell_type": "code",
      "source": [
        ""
      ],
      "execution_count": 0,
      "outputs": []
    },
    {
      "metadata": {
        "id": "XRDe96tdBHb9",
        "colab_type": "code",
        "colab": {}
      },
      "cell_type": "code",
      "source": [
        ""
      ],
      "execution_count": 0,
      "outputs": []
    },
    {
      "metadata": {
        "id": "UQ2Q59n_BHaT",
        "colab_type": "code",
        "colab": {}
      },
      "cell_type": "code",
      "source": [
        ""
      ],
      "execution_count": 0,
      "outputs": []
    },
    {
      "metadata": {
        "id": "hrNDvhJJBHUZ",
        "colab_type": "code",
        "colab": {}
      },
      "cell_type": "code",
      "source": [
        ""
      ],
      "execution_count": 0,
      "outputs": []
    },
    {
      "metadata": {
        "id": "t5hTfowJBHSo",
        "colab_type": "code",
        "colab": {}
      },
      "cell_type": "code",
      "source": [
        ""
      ],
      "execution_count": 0,
      "outputs": []
    },
    {
      "metadata": {
        "id": "YDqgXpl6uJje",
        "colab_type": "text"
      },
      "cell_type": "markdown",
      "source": [
        "# Rascunhos\n"
      ]
    },
    {
      "metadata": {
        "id": "qCpckQOnkp14",
        "colab_type": "code",
        "colab": {}
      },
      "cell_type": "code",
      "source": [
        "#palavrasDeTodosOsTextos\n",
        "#frequency\n",
        "#processed_corpus"
      ],
      "execution_count": 0,
      "outputs": []
    },
    {
      "metadata": {
        "id": "qOb3Km28IYvq",
        "colab_type": "code",
        "colab": {}
      },
      "cell_type": "code",
      "source": [
        "#from gensim import corpora\n",
        "\n",
        "#dictionary = corpora.Dictionary(processed_corpus)\n",
        "#print(dictionary)\n",
        "#45427 unique tokens: [\"'30s\", '15', '16', '1930s', '19th']...) from 2467 documents"
      ],
      "execution_count": 0,
      "outputs": []
    },
    {
      "metadata": {
        "id": "FGWrGQ4-JduU",
        "colab_type": "code",
        "colab": {}
      },
      "cell_type": "code",
      "source": [
        "#print(dictionary.token2id)"
      ],
      "execution_count": 0,
      "outputs": []
    },
    {
      "metadata": {
        "id": "SinIZjBCCqPI",
        "colab_type": "code",
        "colab": {}
      },
      "cell_type": "code",
      "source": [
        "#preciso implementar o seguinte: pegar as 30 primeiras palavras de cada texto e \n",
        "#pegar o vetor delas (farei isso para cada tipo de embedding).\n",
        "\n",
        "\n",
        "\n",
        "model = gensim.models.Word2Vec(processed_corpus, min_count=1)"
      ],
      "execution_count": 0,
      "outputs": []
    },
    {
      "metadata": {
        "id": "H3fxUEXlfr07",
        "colab_type": "code",
        "colab": {}
      },
      "cell_type": "code",
      "source": [
        "#print(model)\n",
        "#print(model.wv.vocab)\n",
        "model.most_similar(\"music\")"
      ],
      "execution_count": 0,
      "outputs": []
    },
    {
      "metadata": {
        "id": "lXS2tsRQAXTZ",
        "colab_type": "code",
        "colab": {}
      },
      "cell_type": "code",
      "source": [
        ""
      ],
      "execution_count": 0,
      "outputs": []
    },
    {
      "metadata": {
        "id": "OvFEN7Jxj5Je",
        "colab_type": "code",
        "colab": {}
      },
      "cell_type": "code",
      "source": [
        ""
      ],
      "execution_count": 0,
      "outputs": []
    },
    {
      "metadata": {
        "id": "-zP38lr-Rva6",
        "colab_type": "code",
        "colab": {}
      },
      "cell_type": "code",
      "source": [
        "modelGlove.train([\"henrique\", \"heloisa\"])"
      ],
      "execution_count": 0,
      "outputs": []
    },
    {
      "metadata": {
        "id": "7ZZlt01tlE3C",
        "colab_type": "code",
        "colab": {}
      },
      "cell_type": "code",
      "source": [
        ""
      ],
      "execution_count": 0,
      "outputs": []
    },
    {
      "metadata": {
        "id": "Gw1HXnSRZ7RJ",
        "colab_type": "text"
      },
      "cell_type": "markdown",
      "source": [
        ""
      ]
    },
    {
      "metadata": {
        "id": "Ap-rQVDbAXWA",
        "colab_type": "code",
        "colab": {}
      },
      "cell_type": "code",
      "source": [
        "  modelGlove.most_similar(positive=['woman', 'king'], negative=['man'])"
      ],
      "execution_count": 0,
      "outputs": []
    },
    {
      "metadata": {
        "id": "8DGo6E7YAXY_",
        "colab_type": "code",
        "colab": {}
      },
      "cell_type": "code",
      "source": [
        "api.info()"
      ],
      "execution_count": 0,
      "outputs": []
    },
    {
      "metadata": {
        "id": "axkGaSABF3Pz",
        "colab_type": "code",
        "colab": {}
      },
      "cell_type": "code",
      "source": [
        "QTD_TEXTOS=len(Y)\n",
        "QTD_PALAVRAS=30"
      ],
      "execution_count": 0,
      "outputs": []
    },
    {
      "metadata": {
        "id": "-IGB8DBAAXby",
        "colab_type": "code",
        "colab": {}
      },
      "cell_type": "code",
      "source": [
        "#construção da tabela entrada da regressão X\n",
        "Y\n",
        "X=np.array(ndmin=2)\n",
        "numeroDaLinha=-1\n",
        "for text in texts:\n",
        "  numeroDaLinha+=1\n",
        "  for i in range(QTD_PALAVRAS):#vou pegar as 30 primeiras palavras de cada texto\n",
        "    palavra = text[i]\n",
        "    vetorDaPalavra = modelo[palavra]\n",
        "    X[numeroDaLinha][i]=vetorDaPalavra\n",
        "    "
      ],
      "execution_count": 0,
      "outputs": []
    },
    {
      "metadata": {
        "id": "kVDR_9EGAXin",
        "colab_type": "code",
        "colab": {}
      },
      "cell_type": "code",
      "source": [
        ""
      ],
      "execution_count": 0,
      "outputs": []
    },
    {
      "metadata": {
        "id": "28t1DaieuFjc",
        "colab_type": "code",
        "colab": {}
      },
      "cell_type": "code",
      "source": [
        ""
      ],
      "execution_count": 0,
      "outputs": []
    },
    {
      "metadata": {
        "id": "DmVgOmfQfr3s",
        "colab_type": "code",
        "colab": {}
      },
      "cell_type": "code",
      "source": [
        "#nltk.download()"
      ],
      "execution_count": 0,
      "outputs": []
    },
    {
      "metadata": {
        "id": "6uE_tHKMfr6B",
        "colab_type": "code",
        "colab": {}
      },
      "cell_type": "code",
      "source": [
        "#https://radimrehurek.com/gensim/models/keyedvectors.html é melhor usar full model \n",
        "# quando You need the full model to train or update vectors.\n",
        "#The reason for separating the trained vectors into KeyedVectors is that if you don’t need \n",
        "#the full model state any more (don’t need to continue training), the state can discarded, \n",
        "#resulting in a much smaller and faster object that can be mmapped for lightning fast loading \n",
        "#and sharing the vectors in RAM between processes:\n",
        "\n",
        "\n",
        "\n",
        "# Load Google's pre-trained Word2Vec model.\n",
        "#depreciado\n",
        "#model = gensim.models.Word2Vec.load_word2vec_format('./model/GoogleNews-vectors-negative300.bin', binary=True)  \n",
        "from gensim.test.utils import datapath\n",
        "from gensim.models import KeyedVectors\n",
        "#Vectors exported by the Facebook and Google tools do not support further training, \n",
        "#but you can still load them into KeyedVectors.\n",
        "wv_from_text = KeyedVectors.load_word2vec_format(datapath('word2vec_pre_kv_c'), binary=False)  # C text format\n"
      ],
      "execution_count": 0,
      "outputs": []
    },
    {
      "metadata": {
        "id": "8161anmnD3X8",
        "colab_type": "code",
        "colab": {}
      },
      "cell_type": "code",
      "source": [
        "from gensim.models import Word2Vec\n",
        "model = Word2Vec(common_texts, size=100, window=5, min_count=1, workers=4)\n",
        "model.train()"
      ],
      "execution_count": 0,
      "outputs": []
    },
    {
      "metadata": {
        "id": "7LmXgpqdFf0q",
        "colab_type": "code",
        "colab": {}
      },
      "cell_type": "code",
      "source": [
        "#model = gensim.models.Word2Vec(processed_corpus, min_count=1)\n",
        "model = gensim.models.Word2Vec(['carro','barco'], min_count=1)"
      ],
      "execution_count": 0,
      "outputs": []
    },
    {
      "metadata": {
        "id": "8GwTDoYnFNn7",
        "colab_type": "code",
        "colab": {}
      },
      "cell_type": "code",
      "source": [
        "model=gensim.models.Word2Vec.load_word2vec_format()#depreciado"
      ],
      "execution_count": 0,
      "outputs": []
    },
    {
      "metadata": {
        "id": "jqqSZm0yD36k",
        "colab_type": "code",
        "colab": {}
      },
      "cell_type": "code",
      "source": [
        ""
      ],
      "execution_count": 0,
      "outputs": []
    },
    {
      "metadata": {
        "id": "0aWenmihD39e",
        "colab_type": "code",
        "colab": {}
      },
      "cell_type": "code",
      "source": [
        ""
      ],
      "execution_count": 0,
      "outputs": []
    },
    {
      "metadata": {
        "id": "C2wHw84h9fMU",
        "colab_type": "code",
        "colab": {}
      },
      "cell_type": "code",
      "source": [
        "import gensim.downloader as api\n",
        "api.info()"
      ],
      "execution_count": 0,
      "outputs": []
    },
    {
      "metadata": {
        "id": "eocOwaFxfr_C",
        "colab_type": "code",
        "colab": {}
      },
      "cell_type": "code",
      "source": [
        "\n",
        "\n",
        "word_vectors = api.load(\"glove-wiki-gigaword-100\")"
      ],
      "execution_count": 0,
      "outputs": []
    },
    {
      "metadata": {
        "id": "6g4vCeOzfsBy",
        "colab_type": "code",
        "colab": {}
      },
      "cell_type": "code",
      "source": [
        ""
      ],
      "execution_count": 0,
      "outputs": []
    },
    {
      "metadata": {
        "id": "z--Liov4DI4I",
        "colab_type": "code",
        "colab": {}
      },
      "cell_type": "code",
      "source": [
        "# load an example dataset\n",
        "from vega_datasets import data\n",
        "cars = data.cars()\n",
        "\n",
        "# plot the dataset, referencing dataframe column names\n",
        "import altair as alt\n",
        "alt.Chart(cars).mark_bar().encode(\n",
        "  x=alt.X('Miles_per_Gallon', bin=True),\n",
        "  y='count()',\n",
        ")"
      ],
      "execution_count": 0,
      "outputs": []
    },
    {
      "metadata": {
        "id": "YSgNhnqwunDx",
        "colab_type": "code",
        "colab": {}
      },
      "cell_type": "code",
      "source": [
        "#https://github.com/RaRe-Technologies/gensim\n",
        "#https://github.com/RaRe-Technologies/gensim/blob/develop/docs/notebooks/gensim%20Quick%20Start.ipynb\n",
        "\n",
        "\n",
        "\n",
        "raw_corpus = [\"Human machine interface for lab abc computer applications\",\n",
        "             \"A survey of user opinion of computer system response time\",\n",
        "             \"The EPS user interface management system\",\n",
        "             \"System and human system engineering testing of EPS\",              \n",
        "             \"Relation of user perceived response time to error measurement\",\n",
        "             \"The generation of random binary unordered trees\",\n",
        "             \"The intersection graph of paths in trees\",\n",
        "             \"Graph minors IV Widths of trees and well quasi ordering\",\n",
        "             \"Graph minors A survey\"]\n",
        "\n",
        "# Create a set of frequent words\n",
        "stoplist = set('for a of the and to in'.split(' '))\n",
        "# Lowercase each document, split it by white space and filter out stopwords\n",
        "texts = [[word for word in document.lower().split() if word not in stoplist]\n",
        "         for document in raw_corpus]\n",
        "\n",
        "# Count word frequencies\n",
        "from collections import defaultdict\n",
        "frequency = defaultdict(int)\n",
        "for text in texts:\n",
        "    for token in text:\n",
        "        frequency[token] += 1\n",
        "\n",
        "# Only keep words that appear more than once\n",
        "processed_corpus = [[token for token in text if frequency[token] > 1] for text in texts]\n",
        "processed_corpus\n"
      ],
      "execution_count": 0,
      "outputs": []
    },
    {
      "metadata": {
        "id": "0qKHTczmo0vX",
        "colab_type": "code",
        "colab": {}
      },
      "cell_type": "code",
      "source": [
        "\n",
        "\n",
        "\n",
        "\n",
        "#These datasets contain information about all audio-video recordings of TED Talks uploaded to the official TED.com website until September 21st, 2017. The TED main dataset contains information about all talks including number of views, number of comments, descriptions, speakers and titles. The TED transcripts dataset contains the transcripts for all talks available on TED.com.\n",
        "#There are two CSV files:\n",
        "#ted_main.csv - Contains data on actual TED Talk metadata and TED Talk speakers.\n",
        "#transcripts.csv - Contains transcript and URL information for TED Talks\n",
        "\n"
      ],
      "execution_count": 0,
      "outputs": []
    },
    {
      "metadata": {
        "id": "24IhGe3JA95Q",
        "colab_type": "code",
        "colab": {}
      },
      "cell_type": "code",
      "source": [
        ""
      ],
      "execution_count": 0,
      "outputs": []
    }
  ]
}